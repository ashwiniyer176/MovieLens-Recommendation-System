{
 "cells": [
  {
   "cell_type": "code",
   "execution_count": 1,
   "metadata": {},
   "outputs": [],
   "source": [
    "import numpy as np\n",
    "import pandas as pd\n",
    "import matplotlib.pyplot as plt\n",
    "import seaborn as sns"
   ]
  },
  {
   "cell_type": "code",
   "execution_count": 2,
   "metadata": {},
   "outputs": [],
   "source": [
    "import tensorflow as tf\n",
    "from tensorflow.keras.layers import TextVectorization,Input,Embedding,Dense,Dot, Reshape\n",
    "from tensorflow.keras import Model"
   ]
  },
  {
   "cell_type": "code",
   "execution_count": 3,
   "metadata": {},
   "outputs": [],
   "source": [
    "def custom_standardization(input_data):\n",
    "    return stripped_tags"
   ]
  },
  {
   "cell_type": "code",
   "execution_count": 4,
   "metadata": {},
   "outputs": [
    {
     "data": {
      "text/plain": [
       "1130"
      ]
     },
     "execution_count": 4,
     "metadata": {},
     "output_type": "execute_result"
    }
   ],
   "source": [
    "tag_data=pd.read_csv(\"../data/genome-tags.csv\")\n",
    "\n",
    "VOCAB_SIZE=tag_data.tagId.nunique()+2\n",
    "\n",
    "VOCAB_SIZE"
   ]
  },
  {
   "cell_type": "code",
   "execution_count": 5,
   "metadata": {},
   "outputs": [
    {
     "data": {
      "text/html": [
       "<div>\n",
       "<style scoped>\n",
       "    .dataframe tbody tr th:only-of-type {\n",
       "        vertical-align: middle;\n",
       "    }\n",
       "\n",
       "    .dataframe tbody tr th {\n",
       "        vertical-align: top;\n",
       "    }\n",
       "\n",
       "    .dataframe thead th {\n",
       "        text-align: right;\n",
       "    }\n",
       "</style>\n",
       "<table border=\"1\" class=\"dataframe\">\n",
       "  <thead>\n",
       "    <tr style=\"text-align: right;\">\n",
       "      <th></th>\n",
       "      <th>tagId</th>\n",
       "      <th>tag</th>\n",
       "    </tr>\n",
       "  </thead>\n",
       "  <tbody>\n",
       "    <tr>\n",
       "      <th>0</th>\n",
       "      <td>1</td>\n",
       "      <td>007</td>\n",
       "    </tr>\n",
       "    <tr>\n",
       "      <th>1</th>\n",
       "      <td>2</td>\n",
       "      <td>007 (series)</td>\n",
       "    </tr>\n",
       "    <tr>\n",
       "      <th>2</th>\n",
       "      <td>3</td>\n",
       "      <td>18th century</td>\n",
       "    </tr>\n",
       "    <tr>\n",
       "      <th>3</th>\n",
       "      <td>4</td>\n",
       "      <td>1920s</td>\n",
       "    </tr>\n",
       "    <tr>\n",
       "      <th>4</th>\n",
       "      <td>5</td>\n",
       "      <td>1930s</td>\n",
       "    </tr>\n",
       "    <tr>\n",
       "      <th>...</th>\n",
       "      <td>...</td>\n",
       "      <td>...</td>\n",
       "    </tr>\n",
       "    <tr>\n",
       "      <th>1123</th>\n",
       "      <td>1124</td>\n",
       "      <td>writing</td>\n",
       "    </tr>\n",
       "    <tr>\n",
       "      <th>1124</th>\n",
       "      <td>1125</td>\n",
       "      <td>wuxia</td>\n",
       "    </tr>\n",
       "    <tr>\n",
       "      <th>1125</th>\n",
       "      <td>1126</td>\n",
       "      <td>wwii</td>\n",
       "    </tr>\n",
       "    <tr>\n",
       "      <th>1126</th>\n",
       "      <td>1127</td>\n",
       "      <td>zombie</td>\n",
       "    </tr>\n",
       "    <tr>\n",
       "      <th>1127</th>\n",
       "      <td>1128</td>\n",
       "      <td>zombies</td>\n",
       "    </tr>\n",
       "  </tbody>\n",
       "</table>\n",
       "<p>1128 rows × 2 columns</p>\n",
       "</div>"
      ],
      "text/plain": [
       "      tagId           tag\n",
       "0         1           007\n",
       "1         2  007 (series)\n",
       "2         3  18th century\n",
       "3         4         1920s\n",
       "4         5         1930s\n",
       "...     ...           ...\n",
       "1123   1124       writing\n",
       "1124   1125         wuxia\n",
       "1125   1126          wwii\n",
       "1126   1127        zombie\n",
       "1127   1128       zombies\n",
       "\n",
       "[1128 rows x 2 columns]"
      ]
     },
     "execution_count": 5,
     "metadata": {},
     "output_type": "execute_result"
    }
   ],
   "source": [
    "tag_data"
   ]
  },
  {
   "cell_type": "code",
   "execution_count": 6,
   "metadata": {},
   "outputs": [
    {
     "data": {
      "text/plain": [
       "1128"
      ]
     },
     "execution_count": 6,
     "metadata": {},
     "output_type": "execute_result"
    }
   ],
   "source": [
    "VOCABULARY=tag_data.tag.unique().tolist()\n",
    "len(VOCABULARY)"
   ]
  },
  {
   "cell_type": "code",
   "execution_count": 7,
   "metadata": {},
   "outputs": [],
   "source": [
    "SEQUENCE_LENGTH=50"
   ]
  },
  {
   "cell_type": "code",
   "execution_count": 8,
   "metadata": {},
   "outputs": [],
   "source": [
    "master_data=pd.read_csv(\"../data/Master_dataset.csv\")"
   ]
  },
  {
   "cell_type": "code",
   "execution_count": 9,
   "metadata": {},
   "outputs": [],
   "source": [
    "NUMBER_OF_MOVIES=master_data.movieId.nunique()\n",
    "NUMBER_OF_USERS=master_data.userId.nunique()"
   ]
  },
  {
   "cell_type": "code",
   "execution_count": 10,
   "metadata": {},
   "outputs": [],
   "source": [
    "def create_model(embedding_size=16):\n",
    "    user_tag=Input(name=\"user_tags\",shape=[1],dtype=tf.string)\n",
    "    movie_tag=Input(name=\"movie_tags\",shape=[1],dtype=tf.string)\n",
    "\n",
    "    user_tag_vectorized = TextVectorization(\n",
    "    standardize=\"strip_punctuation\",\n",
    "    max_tokens=VOCAB_SIZE,\n",
    "    output_mode='int',\n",
    "    output_sequence_length=SEQUENCE_LENGTH,\n",
    "    vocabulary=VOCABULARY)(user_tag)\n",
    "    \n",
    "    movie_tag_vectorized = TextVectorization(\n",
    "    standardize=\"strip_punctuation\",\n",
    "    max_tokens=VOCAB_SIZE,\n",
    "    output_mode='int',\n",
    "    output_sequence_length=SEQUENCE_LENGTH,\n",
    "    vocabulary=VOCABULARY)(movie_tag)\n",
    "    \n",
    "    user_embedding= Embedding(name = 'user_embedding',input_dim = NUMBER_OF_USERS, output_dim = embedding_size)(user_tag_vectorized)\n",
    "    movie_embedding= Embedding(name = 'movie_embedding',input_dim = NUMBER_OF_MOVIES, output_dim = embedding_size)(movie_tag_vectorized)\n",
    "    \n",
    "    merged = Dot(name = 'dot_product', normalize = True, axes = 2)([user_embedding, movie_embedding])\n",
    "    \n",
    "    merged = Reshape(target_shape = [2500])(merged)\n",
    "    \n",
    "    # merged=Dense(2500, activation=\"relu\")(merged)\n",
    "    \n",
    "    # merged=Dense(1500, activation=\"relu\")(merged)\n",
    "    \n",
    "    # merged=Dense(500, activation=\"relu\")(merged)\n",
    "    \n",
    "    out = Dense(6, activation=\"softmax\")(merged)\n",
    "    \n",
    "    model = Model(inputs = [user_tag, movie_tag], outputs = out)\n",
    "    \n",
    "    model.compile(optimizer = 'Adam', loss = 'sparse_categorical_crossentropy', metrics = ['accuracy'])\n",
    "    return model"
   ]
  },
  {
   "cell_type": "code",
   "execution_count": 11,
   "metadata": {},
   "outputs": [],
   "source": [
    "model=create_model()"
   ]
  },
  {
   "cell_type": "code",
   "execution_count": 12,
   "metadata": {},
   "outputs": [
    {
     "name": "stdout",
     "output_type": "stream",
     "text": [
      "Model: \"model\"\n",
      "__________________________________________________________________________________________________\n",
      " Layer (type)                   Output Shape         Param #     Connected to                     \n",
      "==================================================================================================\n",
      " user_tags (InputLayer)         [(None, 1)]          0           []                               \n",
      "                                                                                                  \n",
      " movie_tags (InputLayer)        [(None, 1)]          0           []                               \n",
      "                                                                                                  \n",
      " text_vectorization (TextVector  (None, 50)          0           ['user_tags[0][0]']              \n",
      " ization)                                                                                         \n",
      "                                                                                                  \n",
      " text_vectorization_1 (TextVect  (None, 50)          0           ['movie_tags[0][0]']             \n",
      " orization)                                                                                       \n",
      "                                                                                                  \n",
      " user_embedding (Embedding)     (None, 50, 16)       24816       ['text_vectorization[0][0]']     \n",
      "                                                                                                  \n",
      " movie_embedding (Embedding)    (None, 50, 16)       221056      ['text_vectorization_1[0][0]']   \n",
      "                                                                                                  \n",
      " dot_product (Dot)              (None, 50, 50)       0           ['user_embedding[0][0]',         \n",
      "                                                                  'movie_embedding[0][0]']        \n",
      "                                                                                                  \n",
      " reshape (Reshape)              (None, 2500)         0           ['dot_product[0][0]']            \n",
      "                                                                                                  \n",
      " dense (Dense)                  (None, 6)            15006       ['reshape[0][0]']                \n",
      "                                                                                                  \n",
      "==================================================================================================\n",
      "Total params: 260,878\n",
      "Trainable params: 260,878\n",
      "Non-trainable params: 0\n",
      "__________________________________________________________________________________________________\n"
     ]
    }
   ],
   "source": [
    "model.summary()"
   ]
  },
  {
   "cell_type": "code",
   "execution_count": 13,
   "metadata": {},
   "outputs": [],
   "source": [
    "def split_x_and_y(data,label=\"rating\"):\n",
    "    X_user=data[\"user_tags\"]\n",
    "    X_movie=data[\"tag\"]\n",
    "    y=data[label]\n",
    "    return X_user,X_movie, y"
   ]
  },
  {
   "cell_type": "code",
   "execution_count": 14,
   "metadata": {},
   "outputs": [],
   "source": [
    "train=pd.read_csv(\"../input/train_user_item.csv\")\n",
    "test=pd.read_csv(\"../input/test_user_item.csv\")\n",
    "validation=pd.read_csv(\"../input/validation_user_item.csv\")"
   ]
  },
  {
   "cell_type": "code",
   "execution_count": 15,
   "metadata": {},
   "outputs": [],
   "source": [
    "value_counts=train[\"rating\"].value_counts().to_dict()"
   ]
  },
  {
   "cell_type": "code",
   "execution_count": 16,
   "metadata": {},
   "outputs": [
    {
     "data": {
      "text/plain": [
       "{3: 140123, 4: 133103, 2: 57298, 5: 41751, 1: 22060, 0: 8135}"
      ]
     },
     "execution_count": 16,
     "metadata": {},
     "output_type": "execute_result"
    }
   ],
   "source": [
    "value_counts"
   ]
  },
  {
   "cell_type": "code",
   "execution_count": 17,
   "metadata": {},
   "outputs": [],
   "source": [
    "highest_frequency=max(value_counts.values())"
   ]
  },
  {
   "cell_type": "code",
   "execution_count": 18,
   "metadata": {},
   "outputs": [],
   "source": [
    "class_weights={k:(highest_frequency/v) for k,v in value_counts.items()}"
   ]
  },
  {
   "cell_type": "code",
   "execution_count": null,
   "metadata": {},
   "outputs": [],
   "source": []
  },
  {
   "cell_type": "code",
   "execution_count": 19,
   "metadata": {},
   "outputs": [],
   "source": [
    "train_user, train_movie, train_y=split_x_and_y(train)\n",
    "test_user, test_movie, test_y=split_x_and_y(test)\n",
    "\n",
    "validation_user, validation_movie, validation_y=split_x_and_y(validation)"
   ]
  },
  {
   "cell_type": "code",
   "execution_count": 20,
   "metadata": {},
   "outputs": [
    {
     "data": {
      "text/html": [
       "<div>\n",
       "<style scoped>\n",
       "    .dataframe tbody tr th:only-of-type {\n",
       "        vertical-align: middle;\n",
       "    }\n",
       "\n",
       "    .dataframe tbody tr th {\n",
       "        vertical-align: top;\n",
       "    }\n",
       "\n",
       "    .dataframe thead th {\n",
       "        text-align: right;\n",
       "    }\n",
       "</style>\n",
       "<table border=\"1\" class=\"dataframe\">\n",
       "  <thead>\n",
       "    <tr style=\"text-align: right;\">\n",
       "      <th></th>\n",
       "      <th>user_tags</th>\n",
       "      <th>tag</th>\n",
       "      <th>rating</th>\n",
       "    </tr>\n",
       "  </thead>\n",
       "  <tbody>\n",
       "    <tr>\n",
       "      <th>0</th>\n",
       "      <td>blood creepy cult film death gory grindhouse g...</td>\n",
       "      <td>action based on a tv show chase conspiracy cri...</td>\n",
       "      <td>4</td>\n",
       "    </tr>\n",
       "    <tr>\n",
       "      <th>1</th>\n",
       "      <td>aids character study dialogue father son relat...</td>\n",
       "      <td>boarding school bullying chase childhood child...</td>\n",
       "      <td>4</td>\n",
       "    </tr>\n",
       "    <tr>\n",
       "      <th>2</th>\n",
       "      <td>creepy cult film doctors good sequel gothic ho...</td>\n",
       "      <td>alien astronauts big budget first contact mars...</td>\n",
       "      <td>1</td>\n",
       "    </tr>\n",
       "    <tr>\n",
       "      <th>3</th>\n",
       "      <td>art house bdsm cinematography dreamlike enigma...</td>\n",
       "      <td>art house controversial enigmatic erotic male ...</td>\n",
       "      <td>4</td>\n",
       "    </tr>\n",
       "    <tr>\n",
       "      <th>4</th>\n",
       "      <td>adaptation adolescence based on a book childho...</td>\n",
       "      <td>adapted from:book adolescence bittersweet bull...</td>\n",
       "      <td>3</td>\n",
       "    </tr>\n",
       "    <tr>\n",
       "      <th>...</th>\n",
       "      <td>...</td>\n",
       "      <td>...</td>\n",
       "      <td>...</td>\n",
       "    </tr>\n",
       "    <tr>\n",
       "      <th>402465</th>\n",
       "      <td>chase comedy fight scenes god humorous idiotic...</td>\n",
       "      <td>80s california chase comedy drinking fun movie...</td>\n",
       "      <td>3</td>\n",
       "    </tr>\n",
       "    <tr>\n",
       "      <th>402466</th>\n",
       "      <td>adoption aids documentary gay gay character gl...</td>\n",
       "      <td>adultery alternate endings betrayal cheating i...</td>\n",
       "      <td>1</td>\n",
       "    </tr>\n",
       "    <tr>\n",
       "      <th>402467</th>\n",
       "      <td>animals animated animation art artistic criter...</td>\n",
       "      <td>androids cyberpunk distopia dystopia dystopic ...</td>\n",
       "      <td>3</td>\n",
       "    </tr>\n",
       "    <tr>\n",
       "      <th>402468</th>\n",
       "      <td>afterlife cancer cinematography destiny fight ...</td>\n",
       "      <td>action arnold chase cyborgs dystopic future fu...</td>\n",
       "      <td>2</td>\n",
       "    </tr>\n",
       "    <tr>\n",
       "      <th>402469</th>\n",
       "      <td>adaptation africa based on a book brutality ch...</td>\n",
       "      <td>action best war films caper comedy ensemble ca...</td>\n",
       "      <td>3</td>\n",
       "    </tr>\n",
       "  </tbody>\n",
       "</table>\n",
       "<p>402470 rows × 3 columns</p>\n",
       "</div>"
      ],
      "text/plain": [
       "                                                user_tags  \\\n",
       "0       blood creepy cult film death gory grindhouse g...   \n",
       "1       aids character study dialogue father son relat...   \n",
       "2       creepy cult film doctors good sequel gothic ho...   \n",
       "3       art house bdsm cinematography dreamlike enigma...   \n",
       "4       adaptation adolescence based on a book childho...   \n",
       "...                                                   ...   \n",
       "402465  chase comedy fight scenes god humorous idiotic...   \n",
       "402466  adoption aids documentary gay gay character gl...   \n",
       "402467  animals animated animation art artistic criter...   \n",
       "402468  afterlife cancer cinematography destiny fight ...   \n",
       "402469  adaptation africa based on a book brutality ch...   \n",
       "\n",
       "                                                      tag  rating  \n",
       "0       action based on a tv show chase conspiracy cri...       4  \n",
       "1       boarding school bullying chase childhood child...       4  \n",
       "2       alien astronauts big budget first contact mars...       1  \n",
       "3       art house controversial enigmatic erotic male ...       4  \n",
       "4       adapted from:book adolescence bittersweet bull...       3  \n",
       "...                                                   ...     ...  \n",
       "402465  80s california chase comedy drinking fun movie...       3  \n",
       "402466  adultery alternate endings betrayal cheating i...       1  \n",
       "402467  androids cyberpunk distopia dystopia dystopic ...       3  \n",
       "402468  action arnold chase cyborgs dystopic future fu...       2  \n",
       "402469  action best war films caper comedy ensemble ca...       3  \n",
       "\n",
       "[402470 rows x 3 columns]"
      ]
     },
     "execution_count": 20,
     "metadata": {},
     "output_type": "execute_result"
    }
   ],
   "source": [
    "train"
   ]
  },
  {
   "cell_type": "code",
   "execution_count": null,
   "metadata": {},
   "outputs": [],
   "source": []
  },
  {
   "cell_type": "code",
   "execution_count": 21,
   "metadata": {},
   "outputs": [
    {
     "name": "stdout",
     "output_type": "stream",
     "text": [
      "Epoch 1/2\n",
      "394/394 [==============================] - 109s 267ms/step - loss: 1.3461 - accuracy: 0.4230 - val_loss: 1.3001 - val_accuracy: 0.4451\n",
      "Epoch 2/2\n",
      "394/394 [==============================] - 96s 244ms/step - loss: 1.2811 - accuracy: 0.4518 - val_loss: 1.2660 - val_accuracy: 0.4613\n"
     ]
    }
   ],
   "source": [
    "history=model.fit(\n",
    "    x=[train_user,train_movie],\n",
    "    y=train_y,\n",
    "    batch_size=1024,\n",
    "    validation_data=([validation_user,validation_movie],validation_y),\n",
    "    # class_weights=class_weights\n",
    "    epochs=2)"
   ]
  },
  {
   "cell_type": "code",
   "execution_count": 22,
   "metadata": {},
   "outputs": [
    {
     "data": {
      "text/plain": [
       "<matplotlib.legend.Legend at 0x1e0367add30>"
      ]
     },
     "execution_count": 22,
     "metadata": {},
     "output_type": "execute_result"
    },
    {
     "data": {
      "image/png": "[encoded data removed]",
      "text/plain": [
       "<Figure size 432x288 with 1 Axes>"
      ]
     },
     "metadata": {
      "needs_background": "light"
     },
     "output_type": "display_data"
    }
   ],
   "source": [
    "plt.plot(history.history[\"loss\"])\n",
    "plt.plot(history.history[\"val_loss\"])\n",
    "plt.legend([\"loss\",\"val_loss\"])"
   ]
  },
  {
   "cell_type": "code",
   "execution_count": 23,
   "metadata": {},
   "outputs": [
    {
     "data": {
      "text/plain": [
       "<matplotlib.legend.Legend at 0x1e036b04130>"
      ]
     },
     "execution_count": 23,
     "metadata": {},
     "output_type": "execute_result"
    },
    {
     "data": {
      "image/png": "[encoded data removed]",
      "text/plain": [
       "<Figure size 432x288 with 1 Axes>"
      ]
     },
     "metadata": {
      "needs_background": "light"
     },
     "output_type": "display_data"
    }
   ],
   "source": [
    "plt.plot(history.history[\"accuracy\"])\n",
    "plt.plot(history.history[\"val_accuracy\"])\n",
    "plt.legend([\"accuracy\",\"val_accuracy\"])"
   ]
  },
  {
   "cell_type": "code",
   "execution_count": 25,
   "metadata": {},
   "outputs": [
    {
     "name": "stdout",
     "output_type": "stream",
     "text": [
      "303/303 [==============================] - 38s 127ms/step - loss: 1.2650 - accuracy: 0.4592\n"
     ]
    },
    {
     "data": {
      "text/plain": [
       "[1.2649627923965454, 0.45918500423431396]"
      ]
     },
     "execution_count": 25,
     "metadata": {},
     "output_type": "execute_result"
    }
   ],
   "source": [
    "model.evaluate(\n",
    "    x=[test_user,test_movie],\n",
    "    y=test_y,\n",
    "    batch_size=1024,\n",
    "    )"
   ]
  },
  {
   "cell_type": "code",
   "execution_count": 26,
   "metadata": {},
   "outputs": [
    {
     "name": "stdout",
     "output_type": "stream",
     "text": [
      "9675/9675 [==============================] - 80s 8ms/step\n"
     ]
    }
   ],
   "source": [
    "y_pred=np.argmax(model.predict([test_user, test_movie]),axis=1)"
   ]
  },
  {
   "cell_type": "code",
   "execution_count": null,
   "metadata": {},
   "outputs": [
    {
     "data": {
      "text/plain": [
       "3    20703\n",
       "2    16052\n",
       "4    12849\n",
       "1     6778\n",
       "0     3602\n",
       "Name: rating, dtype: int64"
      ]
     },
     "execution_count": 23,
     "metadata": {},
     "output_type": "execute_result"
    }
   ],
   "source": [
    "train_y.value_counts()"
   ]
  },
  {
   "cell_type": "code",
   "execution_count": null,
   "metadata": {},
   "outputs": [
    {
     "data": {
      "text/plain": [
       "3    15891\n",
       "2    12362\n",
       "4    10005\n",
       "1     5139\n",
       "0     2745\n",
       "Name: rating, dtype: int64"
      ]
     },
     "execution_count": 24,
     "metadata": {},
     "output_type": "execute_result"
    }
   ],
   "source": [
    "test_y.value_counts()"
   ]
  },
  {
   "cell_type": "code",
   "execution_count": null,
   "metadata": {},
   "outputs": [
    {
     "data": {
      "text/plain": [
       "array([3, 2, 1, ..., 2, 4, 3], dtype=int64)"
      ]
     },
     "execution_count": 27,
     "metadata": {},
     "output_type": "execute_result"
    }
   ],
   "source": [
    "y_pred"
   ]
  },
  {
   "cell_type": "code",
   "execution_count": null,
   "metadata": {},
   "outputs": [],
   "source": [
    "from sklearn.metrics import classification_report"
   ]
  },
  {
   "cell_type": "code",
   "execution_count": null,
   "metadata": {},
   "outputs": [
    {
     "data": {
      "text/plain": [
       "0        3\n",
       "1        2\n",
       "2        1\n",
       "3        3\n",
       "4        4\n",
       "        ..\n",
       "46137    4\n",
       "46138    2\n",
       "46139    2\n",
       "46140    4\n",
       "46141    3\n",
       "Name: rating, Length: 46142, dtype: int64"
      ]
     },
     "execution_count": 29,
     "metadata": {},
     "output_type": "execute_result"
    }
   ],
   "source": [
    "test_y"
   ]
  },
  {
   "cell_type": "code",
   "execution_count": null,
   "metadata": {},
   "outputs": [
    {
     "name": "stdout",
     "output_type": "stream",
     "text": [
      "              precision    recall  f1-score   support\n",
      "\n",
      "           0       0.55      0.20      0.30      2745\n",
      "           1       0.36      0.09      0.14      5139\n",
      "           2       0.37      0.50      0.43     12362\n",
      "           3       0.43      0.58      0.49     15891\n",
      "           4       0.48      0.28      0.36     10005\n",
      "\n",
      "    accuracy                           0.42     46142\n",
      "   macro avg       0.44      0.33      0.34     46142\n",
      "weighted avg       0.43      0.42      0.40     46142\n",
      "\n"
     ]
    }
   ],
   "source": [
    "print(classification_report(y_pred=y_pred,y_true=test_y))"
   ]
  },
  {
   "cell_type": "code",
   "execution_count": null,
   "metadata": {},
   "outputs": [],
   "source": []
  },
  {
   "cell_type": "code",
   "execution_count": null,
   "metadata": {},
   "outputs": [],
   "source": []
  },
  {
   "cell_type": "code",
   "execution_count": null,
   "metadata": {},
   "outputs": [],
   "source": []
  }
 ],
 "metadata": {
  "kernelspec": {
   "display_name": "tf_gpu",
   "language": "python",
   "name": "python3"
  },
  "language_info": {
   "codemirror_mode": {
    "name": "ipython",
    "version": 3
   },
   "file_extension": ".py",
   "mimetype": "text/x-python",
   "name": "python",
   "nbconvert_exporter": "python",
   "pygments_lexer": "ipython3",
   "version": "3.9.12"
  },
  "orig_nbformat": 4,
  "vscode": {
   "interpreter": {
    "hash": "197295b20122369b6502e224a1410f8bc9b22cbbcad42d16b957c3154cf64235"
   }
  }
 },
 "nbformat": 4,
 "nbformat_minor": 2
}
