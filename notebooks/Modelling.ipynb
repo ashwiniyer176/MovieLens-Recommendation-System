{
 "cells": [
  {
   "cell_type": "code",
   "execution_count": 1,
   "metadata": {},
   "outputs": [],
   "source": [
    "import numpy as np\n",
    "import pandas as pd\n",
    "import matplotlib.pyplot as plt\n",
    "import seaborn as sns"
   ]
  },
  {
   "cell_type": "code",
   "execution_count": 2,
   "metadata": {},
   "outputs": [],
   "source": [
    "import tensorflow as tf\n",
    "from tensorflow.keras.layers import TextVectorization,Input,Embedding,Dense,Dot, Reshape\n",
    "from tensorflow.keras import Model"
   ]
  },
  {
   "cell_type": "code",
   "execution_count": 3,
   "metadata": {},
   "outputs": [],
   "source": [
    "def custom_standardization(input_data):\n",
    "    return stripped_tags"
   ]
  },
  {
   "cell_type": "code",
   "execution_count": 4,
   "metadata": {},
   "outputs": [
    {
     "data": {
      "text/plain": [
       "1130"
      ]
     },
     "execution_count": 4,
     "metadata": {},
     "output_type": "execute_result"
    }
   ],
   "source": [
    "tag_data=pd.read_csv(\"../data/genome-tags.csv\")\n",
    "\n",
    "VOCAB_SIZE=tag_data.tagId.nunique()+2\n",
    "\n",
    "VOCAB_SIZE"
   ]
  },
  {
   "cell_type": "code",
   "execution_count": 5,
   "metadata": {},
   "outputs": [
    {
     "data": {
      "text/html": [
       "<div>\n",
       "<style scoped>\n",
       "    .dataframe tbody tr th:only-of-type {\n",
       "        vertical-align: middle;\n",
       "    }\n",
       "\n",
       "    .dataframe tbody tr th {\n",
       "        vertical-align: top;\n",
       "    }\n",
       "\n",
       "    .dataframe thead th {\n",
       "        text-align: right;\n",
       "    }\n",
       "</style>\n",
       "<table border=\"1\" class=\"dataframe\">\n",
       "  <thead>\n",
       "    <tr style=\"text-align: right;\">\n",
       "      <th></th>\n",
       "      <th>tagId</th>\n",
       "      <th>tag</th>\n",
       "    </tr>\n",
       "  </thead>\n",
       "  <tbody>\n",
       "    <tr>\n",
       "      <th>0</th>\n",
       "      <td>1</td>\n",
       "      <td>007</td>\n",
       "    </tr>\n",
       "    <tr>\n",
       "      <th>1</th>\n",
       "      <td>2</td>\n",
       "      <td>007 (series)</td>\n",
       "    </tr>\n",
       "    <tr>\n",
       "      <th>2</th>\n",
       "      <td>3</td>\n",
       "      <td>18th century</td>\n",
       "    </tr>\n",
       "    <tr>\n",
       "      <th>3</th>\n",
       "      <td>4</td>\n",
       "      <td>1920s</td>\n",
       "    </tr>\n",
       "    <tr>\n",
       "      <th>4</th>\n",
       "      <td>5</td>\n",
       "      <td>1930s</td>\n",
       "    </tr>\n",
       "    <tr>\n",
       "      <th>...</th>\n",
       "      <td>...</td>\n",
       "      <td>...</td>\n",
       "    </tr>\n",
       "    <tr>\n",
       "      <th>1123</th>\n",
       "      <td>1124</td>\n",
       "      <td>writing</td>\n",
       "    </tr>\n",
       "    <tr>\n",
       "      <th>1124</th>\n",
       "      <td>1125</td>\n",
       "      <td>wuxia</td>\n",
       "    </tr>\n",
       "    <tr>\n",
       "      <th>1125</th>\n",
       "      <td>1126</td>\n",
       "      <td>wwii</td>\n",
       "    </tr>\n",
       "    <tr>\n",
       "      <th>1126</th>\n",
       "      <td>1127</td>\n",
       "      <td>zombie</td>\n",
       "    </tr>\n",
       "    <tr>\n",
       "      <th>1127</th>\n",
       "      <td>1128</td>\n",
       "      <td>zombies</td>\n",
       "    </tr>\n",
       "  </tbody>\n",
       "</table>\n",
       "<p>1128 rows × 2 columns</p>\n",
       "</div>"
      ],
      "text/plain": [
       "      tagId           tag\n",
       "0         1           007\n",
       "1         2  007 (series)\n",
       "2         3  18th century\n",
       "3         4         1920s\n",
       "4         5         1930s\n",
       "...     ...           ...\n",
       "1123   1124       writing\n",
       "1124   1125         wuxia\n",
       "1125   1126          wwii\n",
       "1126   1127        zombie\n",
       "1127   1128       zombies\n",
       "\n",
       "[1128 rows x 2 columns]"
      ]
     },
     "execution_count": 5,
     "metadata": {},
     "output_type": "execute_result"
    }
   ],
   "source": [
    "tag_data"
   ]
  },
  {
   "cell_type": "code",
   "execution_count": 6,
   "metadata": {},
   "outputs": [
    {
     "data": {
      "text/plain": [
       "1128"
      ]
     },
     "execution_count": 6,
     "metadata": {},
     "output_type": "execute_result"
    }
   ],
   "source": [
    "VOCABULARY=tag_data.tag.unique().tolist()\n",
    "len(VOCABULARY)"
   ]
  },
  {
   "cell_type": "code",
   "execution_count": 7,
   "metadata": {},
   "outputs": [],
   "source": [
    "SEQUENCE_LENGTH=50"
   ]
  },
  {
   "cell_type": "code",
   "execution_count": 8,
   "metadata": {},
   "outputs": [],
   "source": [
    "master_data=pd.read_csv(\"../data/Master_dataset.csv\")"
   ]
  },
  {
   "cell_type": "code",
   "execution_count": 9,
   "metadata": {},
   "outputs": [],
   "source": [
    "NUMBER_OF_MOVIES=master_data.movieId.nunique()\n",
    "NUMBER_OF_USERS=master_data.userId.nunique()"
   ]
  },
  {
   "cell_type": "code",
   "execution_count": 10,
   "metadata": {},
   "outputs": [],
   "source": [
    "def create_model(embedding_size=16):\n",
    "    user_tag=Input(name=\"user_tags\",shape=[1],dtype=tf.string)\n",
    "    movie_tag=Input(name=\"movie_tags\",shape=[1],dtype=tf.string)\n",
    "\n",
    "    user_tag_vectorized = TextVectorization(\n",
    "    standardize=\"strip_punctuation\",\n",
    "    max_tokens=VOCAB_SIZE,\n",
    "    output_mode='int',\n",
    "    output_sequence_length=SEQUENCE_LENGTH,\n",
    "    vocabulary=VOCABULARY)(user_tag)\n",
    "    \n",
    "    movie_tag_vectorized = TextVectorization(\n",
    "    standardize=\"strip_punctuation\",\n",
    "    max_tokens=VOCAB_SIZE,\n",
    "    output_mode='int',\n",
    "    output_sequence_length=SEQUENCE_LENGTH,\n",
    "    vocabulary=VOCABULARY)(movie_tag)\n",
    "    \n",
    "    user_embedding= Embedding(name = 'user_embedding',input_dim = NUMBER_OF_USERS, output_dim = embedding_size)(user_tag_vectorized)\n",
    "    movie_embedding= Embedding(name = 'movie_embedding',input_dim = NUMBER_OF_MOVIES, output_dim = embedding_size)(movie_tag_vectorized)\n",
    "    \n",
    "    merged = Dot(name = 'dot_product', normalize = True, axes = 2)([user_embedding, movie_embedding])\n",
    "    \n",
    "    merged = Reshape(target_shape = [2500])(merged)\n",
    "    \n",
    "    # merged=Dense(2500, activation=\"relu\")(merged)\n",
    "    \n",
    "    # merged=Dense(1500, activation=\"relu\")(merged)\n",
    "    \n",
    "    # merged=Dense(500, activation=\"relu\")(merged)\n",
    "    \n",
    "    out = Dense(5, activation=\"softmax\")(merged)\n",
    "    \n",
    "    model = Model(inputs = [user_tag, movie_tag], outputs = out)\n",
    "    \n",
    "    model.compile(optimizer = 'Adam', loss = 'sparse_categorical_crossentropy', metrics = ['accuracy'])\n",
    "    return model"
   ]
  },
  {
   "cell_type": "code",
   "execution_count": 11,
   "metadata": {},
   "outputs": [],
   "source": [
    "model=create_model()"
   ]
  },
  {
   "cell_type": "code",
   "execution_count": 12,
   "metadata": {},
   "outputs": [
    {
     "name": "stdout",
     "output_type": "stream",
     "text": [
      "Model: \"model\"\n",
      "__________________________________________________________________________________________________\n",
      " Layer (type)                   Output Shape         Param #     Connected to                     \n",
      "==================================================================================================\n",
      " user_tags (InputLayer)         [(None, 1)]          0           []                               \n",
      "                                                                                                  \n",
      " movie_tags (InputLayer)        [(None, 1)]          0           []                               \n",
      "                                                                                                  \n",
      " text_vectorization (TextVector  (None, 50)          0           ['user_tags[0][0]']              \n",
      " ization)                                                                                         \n",
      "                                                                                                  \n",
      " text_vectorization_1 (TextVect  (None, 50)          0           ['movie_tags[0][0]']             \n",
      " orization)                                                                                       \n",
      "                                                                                                  \n",
      " user_embedding (Embedding)     (None, 50, 16)       15088       ['text_vectorization[0][0]']     \n",
      "                                                                                                  \n",
      " movie_embedding (Embedding)    (None, 50, 16)       24032       ['text_vectorization_1[0][0]']   \n",
      "                                                                                                  \n",
      " dot_product (Dot)              (None, 50, 50)       0           ['user_embedding[0][0]',         \n",
      "                                                                  'movie_embedding[0][0]']        \n",
      "                                                                                                  \n",
      " reshape (Reshape)              (None, 2500)         0           ['dot_product[0][0]']            \n",
      "                                                                                                  \n",
      " dense (Dense)                  (None, 5)            12505       ['reshape[0][0]']                \n",
      "                                                                                                  \n",
      "==================================================================================================\n",
      "Total params: 51,625\n",
      "Trainable params: 51,625\n",
      "Non-trainable params: 0\n",
      "__________________________________________________________________________________________________\n"
     ]
    }
   ],
   "source": [
    "model.summary()"
   ]
  },
  {
   "cell_type": "code",
   "execution_count": 13,
   "metadata": {},
   "outputs": [],
   "source": [
    "def split_x_and_y(data,label=\"rating\"):\n",
    "    X_user=data[\"user_tags\"]\n",
    "    X_movie=data[\"tag\"]\n",
    "    y=data[label]\n",
    "    return X_user,X_movie, y"
   ]
  },
  {
   "cell_type": "code",
   "execution_count": 14,
   "metadata": {},
   "outputs": [],
   "source": [
    "train=pd.read_csv(\"../input/train_user_item.csv\")\n",
    "test=pd.read_csv(\"../input/test_user_item.csv\")\n",
    "validation=pd.read_csv(\"../input/validation_user_item.csv\")"
   ]
  },
  {
   "cell_type": "code",
   "execution_count": 15,
   "metadata": {},
   "outputs": [],
   "source": [
    "train_user, train_movie, train_y=split_x_and_y(train)\n",
    "test_user, test_movie, test_y=split_x_and_y(test)\n",
    "\n",
    "validation_user, validation_movie, validation_y=split_x_and_y(validation)"
   ]
  },
  {
   "cell_type": "code",
   "execution_count": 16,
   "metadata": {},
   "outputs": [
    {
     "data": {
      "text/html": [
       "<div>\n",
       "<style scoped>\n",
       "    .dataframe tbody tr th:only-of-type {\n",
       "        vertical-align: middle;\n",
       "    }\n",
       "\n",
       "    .dataframe tbody tr th {\n",
       "        vertical-align: top;\n",
       "    }\n",
       "\n",
       "    .dataframe thead th {\n",
       "        text-align: right;\n",
       "    }\n",
       "</style>\n",
       "<table border=\"1\" class=\"dataframe\">\n",
       "  <thead>\n",
       "    <tr style=\"text-align: right;\">\n",
       "      <th></th>\n",
       "      <th>user_tags</th>\n",
       "      <th>tag</th>\n",
       "      <th>rating</th>\n",
       "    </tr>\n",
       "  </thead>\n",
       "  <tbody>\n",
       "    <tr>\n",
       "      <th>0</th>\n",
       "      <td>great acting original relationships</td>\n",
       "      <td>alone in the world alternate history alternate...</td>\n",
       "      <td>3</td>\n",
       "    </tr>\n",
       "    <tr>\n",
       "      <th>1</th>\n",
       "      <td>imdb top 250 great acting violence</td>\n",
       "      <td>aids dramatic emotional exceptional acting gay...</td>\n",
       "      <td>3</td>\n",
       "    </tr>\n",
       "    <tr>\n",
       "      <th>2</th>\n",
       "      <td>imdb top 250 great acting oscar (best directing)</td>\n",
       "      <td>action awesome soundtrack chase chicago corrup...</td>\n",
       "      <td>3</td>\n",
       "    </tr>\n",
       "    <tr>\n",
       "      <th>3</th>\n",
       "      <td>imdb top 250 great acting oscar (best directing)</td>\n",
       "      <td>artist biography creativity documentary drama ...</td>\n",
       "      <td>3</td>\n",
       "    </tr>\n",
       "    <tr>\n",
       "      <th>4</th>\n",
       "      <td>imdb top 250 storytelling weird</td>\n",
       "      <td>alien alien invasion aliens conspiracy conspir...</td>\n",
       "      <td>3</td>\n",
       "    </tr>\n",
       "    <tr>\n",
       "      <th>...</th>\n",
       "      <td>...</td>\n",
       "      <td>...</td>\n",
       "      <td>...</td>\n",
       "    </tr>\n",
       "    <tr>\n",
       "      <th>59979</th>\n",
       "      <td>action good action imdb top 250</td>\n",
       "      <td>18th century 19th century adaptation adapted f...</td>\n",
       "      <td>3</td>\n",
       "    </tr>\n",
       "    <tr>\n",
       "      <th>59980</th>\n",
       "      <td>imdb top 250 great acting storytelling</td>\n",
       "      <td>cinematography criterion death enigmatic forei...</td>\n",
       "      <td>4</td>\n",
       "    </tr>\n",
       "    <tr>\n",
       "      <th>59981</th>\n",
       "      <td>original imdb top 250 oscar (best directing)</td>\n",
       "      <td>brutality good good soundtrack great ending in...</td>\n",
       "      <td>1</td>\n",
       "    </tr>\n",
       "    <tr>\n",
       "      <th>59982</th>\n",
       "      <td>great acting imdb top 250 oscar (best picture)</td>\n",
       "      <td>comedy culture clash drama dysfunctional famil...</td>\n",
       "      <td>1</td>\n",
       "    </tr>\n",
       "    <tr>\n",
       "      <th>59983</th>\n",
       "      <td>original imdb top 250 saturn award (best speci...</td>\n",
       "      <td>based on a true story based on true story biog...</td>\n",
       "      <td>2</td>\n",
       "    </tr>\n",
       "  </tbody>\n",
       "</table>\n",
       "<p>59984 rows × 3 columns</p>\n",
       "</div>"
      ],
      "text/plain": [
       "                                               user_tags  \\\n",
       "0                    great acting original relationships   \n",
       "1                     imdb top 250 great acting violence   \n",
       "2       imdb top 250 great acting oscar (best directing)   \n",
       "3       imdb top 250 great acting oscar (best directing)   \n",
       "4                        imdb top 250 storytelling weird   \n",
       "...                                                  ...   \n",
       "59979                    action good action imdb top 250   \n",
       "59980             imdb top 250 great acting storytelling   \n",
       "59981       original imdb top 250 oscar (best directing)   \n",
       "59982     great acting imdb top 250 oscar (best picture)   \n",
       "59983  original imdb top 250 saturn award (best speci...   \n",
       "\n",
       "                                                     tag  rating  \n",
       "0      alone in the world alternate history alternate...       3  \n",
       "1      aids dramatic emotional exceptional acting gay...       3  \n",
       "2      action awesome soundtrack chase chicago corrup...       3  \n",
       "3      artist biography creativity documentary drama ...       3  \n",
       "4      alien alien invasion aliens conspiracy conspir...       3  \n",
       "...                                                  ...     ...  \n",
       "59979  18th century 19th century adaptation adapted f...       3  \n",
       "59980  cinematography criterion death enigmatic forei...       4  \n",
       "59981  brutality good good soundtrack great ending in...       1  \n",
       "59982  comedy culture clash drama dysfunctional famil...       1  \n",
       "59983  based on a true story based on true story biog...       2  \n",
       "\n",
       "[59984 rows x 3 columns]"
      ]
     },
     "execution_count": 16,
     "metadata": {},
     "output_type": "execute_result"
    }
   ],
   "source": [
    "train"
   ]
  },
  {
   "cell_type": "code",
   "execution_count": 17,
   "metadata": {},
   "outputs": [
    {
     "name": "stdout",
     "output_type": "stream",
     "text": [
      "Epoch 1/20\n",
      "469/469 [==============================] - 11s 14ms/step - loss: 1.4247 - accuracy: 0.3556 - val_loss: 1.3944 - val_accuracy: 0.3720\n",
      "Epoch 2/20\n",
      "469/469 [==============================] - 7s 16ms/step - loss: 1.3846 - accuracy: 0.3753 - val_loss: 1.3738 - val_accuracy: 0.3843\n",
      "Epoch 3/20\n",
      "469/469 [==============================] - 8s 17ms/step - loss: 1.3699 - accuracy: 0.3842 - val_loss: 1.3607 - val_accuracy: 0.3895\n",
      "Epoch 4/20\n",
      "469/469 [==============================] - 8s 17ms/step - loss: 1.3602 - accuracy: 0.3902 - val_loss: 1.3557 - val_accuracy: 0.3950\n",
      "Epoch 5/20\n",
      "469/469 [==============================] - 8s 17ms/step - loss: 1.3523 - accuracy: 0.3929 - val_loss: 1.3555 - val_accuracy: 0.3919\n",
      "Epoch 6/20\n",
      "469/469 [==============================] - 7s 15ms/step - loss: 1.3462 - accuracy: 0.3988 - val_loss: 1.3494 - val_accuracy: 0.3955\n",
      "Epoch 7/20\n",
      "469/469 [==============================] - 7s 15ms/step - loss: 1.3397 - accuracy: 0.4011 - val_loss: 1.3450 - val_accuracy: 0.3975\n",
      "Epoch 8/20\n",
      "469/469 [==============================] - 8s 17ms/step - loss: 1.3342 - accuracy: 0.4033 - val_loss: 1.3425 - val_accuracy: 0.4028\n",
      "Epoch 9/20\n",
      "469/469 [==============================] - 8s 17ms/step - loss: 1.3303 - accuracy: 0.4090 - val_loss: 1.3420 - val_accuracy: 0.4046\n",
      "Epoch 10/20\n",
      "469/469 [==============================] - 8s 17ms/step - loss: 1.3257 - accuracy: 0.4099 - val_loss: 1.3332 - val_accuracy: 0.4074\n",
      "Epoch 11/20\n",
      "469/469 [==============================] - 8s 17ms/step - loss: 1.3202 - accuracy: 0.4137 - val_loss: 1.3313 - val_accuracy: 0.4097\n",
      "Epoch 12/20\n",
      "469/469 [==============================] - 8s 17ms/step - loss: 1.3170 - accuracy: 0.4166 - val_loss: 1.3313 - val_accuracy: 0.4110\n",
      "Epoch 13/20\n",
      "469/469 [==============================] - 8s 17ms/step - loss: 1.3130 - accuracy: 0.4190 - val_loss: 1.3284 - val_accuracy: 0.4107\n",
      "Epoch 14/20\n",
      "469/469 [==============================] - 8s 17ms/step - loss: 1.3098 - accuracy: 0.4208 - val_loss: 1.3270 - val_accuracy: 0.4141\n",
      "Epoch 15/20\n",
      "469/469 [==============================] - 8s 17ms/step - loss: 1.3058 - accuracy: 0.4237 - val_loss: 1.3293 - val_accuracy: 0.4149\n",
      "Epoch 16/20\n",
      "469/469 [==============================] - 8s 17ms/step - loss: 1.3024 - accuracy: 0.4280 - val_loss: 1.3258 - val_accuracy: 0.4149\n",
      "Epoch 17/20\n",
      "469/469 [==============================] - 8s 17ms/step - loss: 1.2996 - accuracy: 0.4277 - val_loss: 1.3214 - val_accuracy: 0.4161\n",
      "Epoch 18/20\n",
      "469/469 [==============================] - 8s 17ms/step - loss: 1.2969 - accuracy: 0.4285 - val_loss: 1.3206 - val_accuracy: 0.4176\n",
      "Epoch 19/20\n",
      "469/469 [==============================] - 8s 17ms/step - loss: 1.2937 - accuracy: 0.4319 - val_loss: 1.3157 - val_accuracy: 0.4227\n",
      "Epoch 20/20\n",
      "469/469 [==============================] - 8s 17ms/step - loss: 1.2906 - accuracy: 0.4348 - val_loss: 1.3195 - val_accuracy: 0.4190\n"
     ]
    }
   ],
   "source": [
    "history=model.fit(\n",
    "    x=[train_user,train_movie],\n",
    "    y=train_y,\n",
    "    batch_size=128,\n",
    "    validation_data=([validation_user,validation_movie],validation_y),\n",
    "    epochs=20)"
   ]
  },
  {
   "cell_type": "code",
   "execution_count": 18,
   "metadata": {},
   "outputs": [
    {
     "data": {
      "text/plain": [
       "<matplotlib.legend.Legend at 0x1f1b4adacd0>"
      ]
     },
     "execution_count": 18,
     "metadata": {},
     "output_type": "execute_result"
    },
    {
     "data": {
      "image/png": "[encoded data removed]",
      "text/plain": [
       "<Figure size 432x288 with 1 Axes>"
      ]
     },
     "metadata": {
      "needs_background": "light"
     },
     "output_type": "display_data"
    }
   ],
   "source": [
    "plt.plot(history.history[\"loss\"])\n",
    "plt.plot(history.history[\"val_loss\"])\n",
    "plt.legend([\"loss\",\"val_loss\"])"
   ]
  },
  {
   "cell_type": "code",
   "execution_count": 21,
   "metadata": {},
   "outputs": [
    {
     "data": {
      "text/plain": [
       "<matplotlib.legend.Legend at 0x1f1bcbc49d0>"
      ]
     },
     "execution_count": 21,
     "metadata": {},
     "output_type": "execute_result"
    },
    {
     "data": {
      "image/png": "[encoded data removed]",
      "text/plain": [
       "<Figure size 432x288 with 1 Axes>"
      ]
     },
     "metadata": {
      "needs_background": "light"
     },
     "output_type": "display_data"
    }
   ],
   "source": [
    "plt.plot(history.history[\"accuracy\"])\n",
    "plt.plot(history.history[\"val_accuracy\"])\n",
    "plt.legend([\"accuracy\",\"val_accuracy\"])"
   ]
  },
  {
   "cell_type": "code",
   "execution_count": 20,
   "metadata": {},
   "outputs": [
    {
     "name": "stdout",
     "output_type": "stream",
     "text": [
      "361/361 [==============================] - 3s 9ms/step - loss: 1.3170 - accuracy: 0.4174\n"
     ]
    },
    {
     "data": {
      "text/plain": [
       "[1.316954255104065, 0.417385458946228]"
      ]
     },
     "execution_count": 20,
     "metadata": {},
     "output_type": "execute_result"
    }
   ],
   "source": [
    "model.evaluate(\n",
    "    x=[test_user,test_movie],\n",
    "    y=test_y,\n",
    "    batch_size=128,\n",
    "    )"
   ]
  },
  {
   "cell_type": "code",
   "execution_count": 26,
   "metadata": {},
   "outputs": [
    {
     "name": "stdout",
     "output_type": "stream",
     "text": [
      "1442/1442 [==============================] - 8s 6ms/step\n"
     ]
    }
   ],
   "source": [
    "y_pred=np.argmax(model.predict([test_user, test_movie]),axis=1)"
   ]
  },
  {
   "cell_type": "code",
   "execution_count": 23,
   "metadata": {},
   "outputs": [
    {
     "data": {
      "text/plain": [
       "3    20703\n",
       "2    16052\n",
       "4    12849\n",
       "1     6778\n",
       "0     3602\n",
       "Name: rating, dtype: int64"
      ]
     },
     "execution_count": 23,
     "metadata": {},
     "output_type": "execute_result"
    }
   ],
   "source": [
    "train_y.value_counts()"
   ]
  },
  {
   "cell_type": "code",
   "execution_count": 24,
   "metadata": {},
   "outputs": [
    {
     "data": {
      "text/plain": [
       "3    15891\n",
       "2    12362\n",
       "4    10005\n",
       "1     5139\n",
       "0     2745\n",
       "Name: rating, dtype: int64"
      ]
     },
     "execution_count": 24,
     "metadata": {},
     "output_type": "execute_result"
    }
   ],
   "source": [
    "test_y.value_counts()"
   ]
  },
  {
   "cell_type": "code",
   "execution_count": 27,
   "metadata": {},
   "outputs": [
    {
     "data": {
      "text/plain": [
       "array([3, 2, 1, ..., 2, 4, 3], dtype=int64)"
      ]
     },
     "execution_count": 27,
     "metadata": {},
     "output_type": "execute_result"
    }
   ],
   "source": [
    "y_pred"
   ]
  },
  {
   "cell_type": "code",
   "execution_count": 28,
   "metadata": {},
   "outputs": [],
   "source": [
    "from sklearn.metrics import classification_report"
   ]
  },
  {
   "cell_type": "code",
   "execution_count": 29,
   "metadata": {},
   "outputs": [
    {
     "data": {
      "text/plain": [
       "0        3\n",
       "1        2\n",
       "2        1\n",
       "3        3\n",
       "4        4\n",
       "        ..\n",
       "46137    4\n",
       "46138    2\n",
       "46139    2\n",
       "46140    4\n",
       "46141    3\n",
       "Name: rating, Length: 46142, dtype: int64"
      ]
     },
     "execution_count": 29,
     "metadata": {},
     "output_type": "execute_result"
    }
   ],
   "source": [
    "test_y"
   ]
  },
  {
   "cell_type": "code",
   "execution_count": 30,
   "metadata": {},
   "outputs": [
    {
     "name": "stdout",
     "output_type": "stream",
     "text": [
      "              precision    recall  f1-score   support\n",
      "\n",
      "           0       0.55      0.20      0.30      2745\n",
      "           1       0.36      0.09      0.14      5139\n",
      "           2       0.37      0.50      0.43     12362\n",
      "           3       0.43      0.58      0.49     15891\n",
      "           4       0.48      0.28      0.36     10005\n",
      "\n",
      "    accuracy                           0.42     46142\n",
      "   macro avg       0.44      0.33      0.34     46142\n",
      "weighted avg       0.43      0.42      0.40     46142\n",
      "\n"
     ]
    }
   ],
   "source": [
    "print(classification_report(y_pred=y_pred,y_true=test_y))"
   ]
  },
  {
   "cell_type": "code",
   "execution_count": null,
   "metadata": {},
   "outputs": [],
   "source": []
  }
 ],
 "metadata": {
  "kernelspec": {
   "display_name": "tf_gpu",
   "language": "python",
   "name": "python3"
  },
  "language_info": {
   "codemirror_mode": {
    "name": "ipython",
    "version": 3
   },
   "file_extension": ".py",
   "mimetype": "text/x-python",
   "name": "python",
   "nbconvert_exporter": "python",
   "pygments_lexer": "ipython3",
   "version": "3.9.12"
  },
  "orig_nbformat": 4,
  "vscode": {
   "interpreter": {
    "hash": "197295b20122369b6502e224a1410f8bc9b22cbbcad42d16b957c3154cf64235"
   }
  }
 },
 "nbformat": 4,
 "nbformat_minor": 2
}
