{
 "cells": [
  {
   "cell_type": "code",
   "execution_count": 1,
   "metadata": {},
   "outputs": [],
   "source": [
    "import numpy as np\n",
    "import pandas as pd\n",
    "import matplotlib.pyplot as plt\n",
    "import seaborn as sns"
   ]
  },
  {
   "cell_type": "code",
   "execution_count": 2,
   "metadata": {},
   "outputs": [],
   "source": [
    "import tensorflow as tf\n",
    "from tensorflow.keras.layers import TextVectorization,Input,Embedding,Dense,Dot, Reshape\n",
    "from tensorflow.keras import Model"
   ]
  },
  {
   "cell_type": "code",
   "execution_count": 3,
   "metadata": {},
   "outputs": [],
   "source": [
    "def custom_standardization(input_data):\n",
    "    return stripped_tags"
   ]
  },
  {
   "cell_type": "code",
   "execution_count": 4,
   "metadata": {},
   "outputs": [
    {
     "data": {
      "text/plain": [
       "1130"
      ]
     },
     "execution_count": 4,
     "metadata": {},
     "output_type": "execute_result"
    }
   ],
   "source": [
    "tag_data=pd.read_csv(\"../data/genome-tags.csv\")\n",
    "\n",
    "VOCAB_SIZE=tag_data.tagId.nunique()+2\n",
    "\n",
    "VOCAB_SIZE"
   ]
  },
  {
   "cell_type": "code",
   "execution_count": 5,
   "metadata": {},
   "outputs": [
    {
     "data": {
      "text/html": [
       "<div>\n",
       "<style scoped>\n",
       "    .dataframe tbody tr th:only-of-type {\n",
       "        vertical-align: middle;\n",
       "    }\n",
       "\n",
       "    .dataframe tbody tr th {\n",
       "        vertical-align: top;\n",
       "    }\n",
       "\n",
       "    .dataframe thead th {\n",
       "        text-align: right;\n",
       "    }\n",
       "</style>\n",
       "<table border=\"1\" class=\"dataframe\">\n",
       "  <thead>\n",
       "    <tr style=\"text-align: right;\">\n",
       "      <th></th>\n",
       "      <th>tagId</th>\n",
       "      <th>tag</th>\n",
       "    </tr>\n",
       "  </thead>\n",
       "  <tbody>\n",
       "    <tr>\n",
       "      <th>0</th>\n",
       "      <td>1</td>\n",
       "      <td>007</td>\n",
       "    </tr>\n",
       "    <tr>\n",
       "      <th>1</th>\n",
       "      <td>2</td>\n",
       "      <td>007 (series)</td>\n",
       "    </tr>\n",
       "    <tr>\n",
       "      <th>2</th>\n",
       "      <td>3</td>\n",
       "      <td>18th century</td>\n",
       "    </tr>\n",
       "    <tr>\n",
       "      <th>3</th>\n",
       "      <td>4</td>\n",
       "      <td>1920s</td>\n",
       "    </tr>\n",
       "    <tr>\n",
       "      <th>4</th>\n",
       "      <td>5</td>\n",
       "      <td>1930s</td>\n",
       "    </tr>\n",
       "    <tr>\n",
       "      <th>...</th>\n",
       "      <td>...</td>\n",
       "      <td>...</td>\n",
       "    </tr>\n",
       "    <tr>\n",
       "      <th>1123</th>\n",
       "      <td>1124</td>\n",
       "      <td>writing</td>\n",
       "    </tr>\n",
       "    <tr>\n",
       "      <th>1124</th>\n",
       "      <td>1125</td>\n",
       "      <td>wuxia</td>\n",
       "    </tr>\n",
       "    <tr>\n",
       "      <th>1125</th>\n",
       "      <td>1126</td>\n",
       "      <td>wwii</td>\n",
       "    </tr>\n",
       "    <tr>\n",
       "      <th>1126</th>\n",
       "      <td>1127</td>\n",
       "      <td>zombie</td>\n",
       "    </tr>\n",
       "    <tr>\n",
       "      <th>1127</th>\n",
       "      <td>1128</td>\n",
       "      <td>zombies</td>\n",
       "    </tr>\n",
       "  </tbody>\n",
       "</table>\n",
       "<p>1128 rows × 2 columns</p>\n",
       "</div>"
      ],
      "text/plain": [
       "      tagId           tag\n",
       "0         1           007\n",
       "1         2  007 (series)\n",
       "2         3  18th century\n",
       "3         4         1920s\n",
       "4         5         1930s\n",
       "...     ...           ...\n",
       "1123   1124       writing\n",
       "1124   1125         wuxia\n",
       "1125   1126          wwii\n",
       "1126   1127        zombie\n",
       "1127   1128       zombies\n",
       "\n",
       "[1128 rows x 2 columns]"
      ]
     },
     "execution_count": 5,
     "metadata": {},
     "output_type": "execute_result"
    }
   ],
   "source": [
    "tag_data"
   ]
  },
  {
   "cell_type": "code",
   "execution_count": 6,
   "metadata": {},
   "outputs": [
    {
     "data": {
      "text/plain": [
       "1128"
      ]
     },
     "execution_count": 6,
     "metadata": {},
     "output_type": "execute_result"
    }
   ],
   "source": [
    "VOCABULARY=tag_data.tag.unique().tolist()\n",
    "len(VOCABULARY)"
   ]
  },
  {
   "cell_type": "code",
   "execution_count": 7,
   "metadata": {},
   "outputs": [],
   "source": [
    "SEQUENCE_LENGTH=50"
   ]
  },
  {
   "cell_type": "code",
   "execution_count": 8,
   "metadata": {},
   "outputs": [],
   "source": [
    "master_data=pd.read_csv(\"../data/Master_dataset.csv\")"
   ]
  },
  {
   "cell_type": "code",
   "execution_count": 9,
   "metadata": {},
   "outputs": [],
   "source": [
    "NUMBER_OF_MOVIES=master_data.movieId.nunique()\n",
    "NUMBER_OF_USERS=master_data.userId.nunique()"
   ]
  },
  {
   "cell_type": "code",
   "execution_count": 10,
   "metadata": {},
   "outputs": [],
   "source": [
    "def create_model(embedding_size=16):\n",
    "    user_tag=Input(name=\"user_tags\",shape=[1],dtype=tf.string)\n",
    "    movie_tag=Input(name=\"movie_tags\",shape=[1],dtype=tf.string)\n",
    "\n",
    "    user_tag_vectorized = TextVectorization(\n",
    "    standardize=\"strip_punctuation\",\n",
    "    max_tokens=VOCAB_SIZE,\n",
    "    output_mode='int',\n",
    "    output_sequence_length=SEQUENCE_LENGTH,\n",
    "    vocabulary=VOCABULARY)(user_tag)\n",
    "    \n",
    "    movie_tag_vectorized = TextVectorization(\n",
    "    standardize=\"strip_punctuation\",\n",
    "    max_tokens=VOCAB_SIZE,\n",
    "    output_mode='int',\n",
    "    output_sequence_length=SEQUENCE_LENGTH,\n",
    "    vocabulary=VOCABULARY)(movie_tag)\n",
    "    \n",
    "    user_embedding= Embedding(name = 'user_embedding',input_dim = NUMBER_OF_USERS, output_dim = embedding_size)(user_tag_vectorized)\n",
    "    movie_embedding= Embedding(name = 'movie_embedding',input_dim = NUMBER_OF_MOVIES, output_dim = embedding_size)(movie_tag_vectorized)\n",
    "    \n",
    "    merged = Dot(name = 'dot_product', normalize = True, axes = 2)([user_embedding, movie_embedding])\n",
    "    \n",
    "    merged = Reshape(target_shape = [2500])(merged)\n",
    "    \n",
    "    out = Dense(1)(merged)\n",
    "    \n",
    "    model = Model(inputs = [user_tag, movie_tag], outputs = out)\n",
    "    \n",
    "    model.compile(optimizer = 'Adam', loss = 'mse', metrics = ['mse',\"mae\"])\n",
    "    return model"
   ]
  },
  {
   "cell_type": "code",
   "execution_count": 11,
   "metadata": {},
   "outputs": [],
   "source": [
    "model=create_model()"
   ]
  },
  {
   "cell_type": "code",
   "execution_count": 12,
   "metadata": {},
   "outputs": [
    {
     "name": "stdout",
     "output_type": "stream",
     "text": [
      "Model: \"model\"\n",
      "__________________________________________________________________________________________________\n",
      " Layer (type)                   Output Shape         Param #     Connected to                     \n",
      "==================================================================================================\n",
      " user_tags (InputLayer)         [(None, 1)]          0           []                               \n",
      "                                                                                                  \n",
      " movie_tags (InputLayer)        [(None, 1)]          0           []                               \n",
      "                                                                                                  \n",
      " text_vectorization (TextVector  (None, 50)          0           ['user_tags[0][0]']              \n",
      " ization)                                                                                         \n",
      "                                                                                                  \n",
      " text_vectorization_1 (TextVect  (None, 50)          0           ['movie_tags[0][0]']             \n",
      " orization)                                                                                       \n",
      "                                                                                                  \n",
      " user_embedding (Embedding)     (None, 50, 16)       15088       ['text_vectorization[0][0]']     \n",
      "                                                                                                  \n",
      " movie_embedding (Embedding)    (None, 50, 16)       24032       ['text_vectorization_1[0][0]']   \n",
      "                                                                                                  \n",
      " dot_product (Dot)              (None, 50, 50)       0           ['user_embedding[0][0]',         \n",
      "                                                                  'movie_embedding[0][0]']        \n",
      "                                                                                                  \n",
      " reshape (Reshape)              (None, 2500)         0           ['dot_product[0][0]']            \n",
      "                                                                                                  \n",
      " dense (Dense)                  (None, 1)            2501        ['reshape[0][0]']                \n",
      "                                                                                                  \n",
      "==================================================================================================\n",
      "Total params: 41,621\n",
      "Trainable params: 41,621\n",
      "Non-trainable params: 0\n",
      "__________________________________________________________________________________________________\n"
     ]
    }
   ],
   "source": [
    "model.summary()"
   ]
  },
  {
   "cell_type": "code",
   "execution_count": 13,
   "metadata": {},
   "outputs": [],
   "source": [
    "def split_x_and_y(data,label=\"rating\"):\n",
    "    X_user=data[\"user_tags\"]\n",
    "    X_movie=data[\"tag\"]\n",
    "    y=data[label]\n",
    "    return X_user,X_movie, y"
   ]
  },
  {
   "cell_type": "code",
   "execution_count": 14,
   "metadata": {},
   "outputs": [],
   "source": [
    "train=pd.read_csv(\"../input/train_user_item.csv\")\n",
    "test=pd.read_csv(\"../input/test_user_item.csv\")\n",
    "validation=pd.read_csv(\"../input/validation_user_item.csv\")"
   ]
  },
  {
   "cell_type": "code",
   "execution_count": 15,
   "metadata": {},
   "outputs": [],
   "source": [
    "train_user, train_movie, train_y=split_x_and_y(train)\n",
    "test_user, test_movie, test_y=split_x_and_y(test)\n",
    "\n",
    "validation_user, validation_movie, validation_y=split_x_and_y(validation)"
   ]
  },
  {
   "cell_type": "code",
   "execution_count": 16,
   "metadata": {},
   "outputs": [
    {
     "data": {
      "text/html": [
       "<div>\n",
       "<style scoped>\n",
       "    .dataframe tbody tr th:only-of-type {\n",
       "        vertical-align: middle;\n",
       "    }\n",
       "\n",
       "    .dataframe tbody tr th {\n",
       "        vertical-align: top;\n",
       "    }\n",
       "\n",
       "    .dataframe thead th {\n",
       "        text-align: right;\n",
       "    }\n",
       "</style>\n",
       "<table border=\"1\" class=\"dataframe\">\n",
       "  <thead>\n",
       "    <tr style=\"text-align: right;\">\n",
       "      <th></th>\n",
       "      <th>user_tags</th>\n",
       "      <th>tag</th>\n",
       "      <th>rating</th>\n",
       "    </tr>\n",
       "  </thead>\n",
       "  <tbody>\n",
       "    <tr>\n",
       "      <th>0</th>\n",
       "      <td>imdb top 250 dark humor stylish</td>\n",
       "      <td>1980s action action packed aviation awesome so...</td>\n",
       "      <td>5</td>\n",
       "    </tr>\n",
       "    <tr>\n",
       "      <th>1</th>\n",
       "      <td>imdb top 250 storytelling weird</td>\n",
       "      <td>bleak character study dark golden palm great a...</td>\n",
       "      <td>4</td>\n",
       "    </tr>\n",
       "    <tr>\n",
       "      <th>2</th>\n",
       "      <td>action good action chase</td>\n",
       "      <td>affectionate clever coen bros coen brothers co...</td>\n",
       "      <td>3</td>\n",
       "    </tr>\n",
       "    <tr>\n",
       "      <th>3</th>\n",
       "      <td>suspense fun movie horror</td>\n",
       "      <td>california catastrophe college comedy culture ...</td>\n",
       "      <td>3</td>\n",
       "    </tr>\n",
       "    <tr>\n",
       "      <th>4</th>\n",
       "      <td>original imdb top 250 great acting</td>\n",
       "      <td>action action packed arnold chase comedy espio...</td>\n",
       "      <td>4</td>\n",
       "    </tr>\n",
       "    <tr>\n",
       "      <th>...</th>\n",
       "      <td>...</td>\n",
       "      <td>...</td>\n",
       "      <td>...</td>\n",
       "    </tr>\n",
       "    <tr>\n",
       "      <th>59979</th>\n",
       "      <td>complex complicated complicated plot</td>\n",
       "      <td>art artist artistic biographical biography bio...</td>\n",
       "      <td>4</td>\n",
       "    </tr>\n",
       "    <tr>\n",
       "      <th>59980</th>\n",
       "      <td>imdb top 250 original action</td>\n",
       "      <td>adoption awful childhood children divorce fami...</td>\n",
       "      <td>3</td>\n",
       "    </tr>\n",
       "    <tr>\n",
       "      <th>59981</th>\n",
       "      <td>imdb top 250 great acting action</td>\n",
       "      <td>action action packed bad acting bad plot car c...</td>\n",
       "      <td>5</td>\n",
       "    </tr>\n",
       "    <tr>\n",
       "      <th>59982</th>\n",
       "      <td>comedy original funniest movies</td>\n",
       "      <td>chase classic conspiracy criterion espionage h...</td>\n",
       "      <td>4</td>\n",
       "    </tr>\n",
       "    <tr>\n",
       "      <th>59983</th>\n",
       "      <td>action special effects big budget</td>\n",
       "      <td>action action packed chase explosions good act...</td>\n",
       "      <td>2</td>\n",
       "    </tr>\n",
       "  </tbody>\n",
       "</table>\n",
       "<p>59984 rows × 3 columns</p>\n",
       "</div>"
      ],
      "text/plain": [
       "                                  user_tags  \\\n",
       "0           imdb top 250 dark humor stylish   \n",
       "1           imdb top 250 storytelling weird   \n",
       "2                  action good action chase   \n",
       "3                 suspense fun movie horror   \n",
       "4        original imdb top 250 great acting   \n",
       "...                                     ...   \n",
       "59979  complex complicated complicated plot   \n",
       "59980          imdb top 250 original action   \n",
       "59981      imdb top 250 great acting action   \n",
       "59982       comedy original funniest movies   \n",
       "59983     action special effects big budget   \n",
       "\n",
       "                                                     tag  rating  \n",
       "0      1980s action action packed aviation awesome so...       5  \n",
       "1      bleak character study dark golden palm great a...       4  \n",
       "2      affectionate clever coen bros coen brothers co...       3  \n",
       "3      california catastrophe college comedy culture ...       3  \n",
       "4      action action packed arnold chase comedy espio...       4  \n",
       "...                                                  ...     ...  \n",
       "59979  art artist artistic biographical biography bio...       4  \n",
       "59980  adoption awful childhood children divorce fami...       3  \n",
       "59981  action action packed bad acting bad plot car c...       5  \n",
       "59982  chase classic conspiracy criterion espionage h...       4  \n",
       "59983  action action packed chase explosions good act...       2  \n",
       "\n",
       "[59984 rows x 3 columns]"
      ]
     },
     "execution_count": 16,
     "metadata": {},
     "output_type": "execute_result"
    }
   ],
   "source": [
    "train"
   ]
  },
  {
   "cell_type": "code",
   "execution_count": 17,
   "metadata": {},
   "outputs": [
    {
     "name": "stdout",
     "output_type": "stream",
     "text": [
      "Epoch 1/10\n",
      "469/469 [==============================] - 8s 12ms/step - loss: 1.3104 - mse: 1.3104 - mae: 0.9084 - val_loss: 1.0583 - val_mse: 1.0583 - val_mae: 0.8248\n",
      "Epoch 2/10\n",
      "469/469 [==============================] - 8s 17ms/step - loss: 1.0713 - mse: 1.0713 - mae: 0.8312 - val_loss: 1.0241 - val_mse: 1.0241 - val_mae: 0.8103\n",
      "Epoch 3/10\n",
      "469/469 [==============================] - 8s 17ms/step - loss: 1.0501 - mse: 1.0501 - mae: 0.8214 - val_loss: 1.0097 - val_mse: 1.0097 - val_mae: 0.8068\n",
      "Epoch 4/10\n",
      "469/469 [==============================] - 8s 17ms/step - loss: 1.0461 - mse: 1.0461 - mae: 0.8181 - val_loss: 0.9991 - val_mse: 0.9991 - val_mae: 0.7980\n",
      "Epoch 5/10\n",
      "469/469 [==============================] - 6s 13ms/step - loss: 1.0162 - mse: 1.0162 - mae: 0.8053 - val_loss: 1.0557 - val_mse: 1.0557 - val_mae: 0.8058\n",
      "Epoch 6/10\n",
      "469/469 [==============================] - 7s 15ms/step - loss: 1.0097 - mse: 1.0097 - mae: 0.8025 - val_loss: 0.9884 - val_mse: 0.9884 - val_mae: 0.8016\n",
      "Epoch 7/10\n",
      "469/469 [==============================] - 8s 17ms/step - loss: 0.9999 - mse: 0.9999 - mae: 0.7981 - val_loss: 0.9967 - val_mse: 0.9967 - val_mae: 0.7892\n",
      "Epoch 8/10\n",
      "469/469 [==============================] - 8s 17ms/step - loss: 0.9928 - mse: 0.9928 - mae: 0.7956 - val_loss: 0.9822 - val_mse: 0.9822 - val_mae: 0.7962\n",
      "Epoch 9/10\n",
      "469/469 [==============================] - 8s 17ms/step - loss: 0.9820 - mse: 0.9820 - mae: 0.7911 - val_loss: 0.9707 - val_mse: 0.9707 - val_mae: 0.7842\n",
      "Epoch 10/10\n",
      "469/469 [==============================] - 8s 17ms/step - loss: 0.9709 - mse: 0.9709 - mae: 0.7865 - val_loss: 0.9734 - val_mse: 0.9734 - val_mae: 0.7808\n"
     ]
    }
   ],
   "source": [
    "history=model.fit(\n",
    "    x=[train_user,train_movie],\n",
    "    y=train_y,\n",
    "    batch_size=128,\n",
    "    validation_data=([validation_user,validation_movie],validation_y),\n",
    "    epochs=10)"
   ]
  },
  {
   "cell_type": "code",
   "execution_count": 18,
   "metadata": {},
   "outputs": [
    {
     "data": {
      "text/plain": [
       "<matplotlib.legend.Legend at 0x1f2ee42bd00>"
      ]
     },
     "execution_count": 18,
     "metadata": {},
     "output_type": "execute_result"
    },
    {
     "data": {
      "image/png": "[encoded data removed]",
      "text/plain": [
       "<Figure size 432x288 with 1 Axes>"
      ]
     },
     "metadata": {
      "needs_background": "light"
     },
     "output_type": "display_data"
    }
   ],
   "source": [
    "plt.plot(history.history[\"loss\"])\n",
    "plt.plot(history.history[\"val_loss\"])\n",
    "plt.legend([\"loss\",\"val_loss\"])"
   ]
  },
  {
   "cell_type": "code",
   "execution_count": 19,
   "metadata": {},
   "outputs": [
    {
     "data": {
      "text/plain": [
       "<matplotlib.legend.Legend at 0x1f2dbe65280>"
      ]
     },
     "execution_count": 19,
     "metadata": {},
     "output_type": "execute_result"
    },
    {
     "data": {
      "image/png": "[encoded data removed]",
      "text/plain": [
       "<Figure size 432x288 with 1 Axes>"
      ]
     },
     "metadata": {
      "needs_background": "light"
     },
     "output_type": "display_data"
    }
   ],
   "source": [
    "plt.plot(history.history[\"mae\"])\n",
    "plt.plot(history.history[\"val_mae\"])\n",
    "plt.legend([\"mae\",\"val_mae\"])"
   ]
  },
  {
   "cell_type": "code",
   "execution_count": 20,
   "metadata": {},
   "outputs": [
    {
     "name": "stdout",
     "output_type": "stream",
     "text": [
      "361/361 [==============================] - 3s 8ms/step - loss: 0.9955 - mse: 0.9955 - mae: 0.7879\n"
     ]
    },
    {
     "data": {
      "text/plain": [
       "[0.9955309629440308, 0.9955309629440308, 0.7878592610359192]"
      ]
     },
     "execution_count": 20,
     "metadata": {},
     "output_type": "execute_result"
    }
   ],
   "source": [
    "model.evaluate(\n",
    "    x=[test_user,test_movie],\n",
    "    y=test_y,\n",
    "    batch_size=128,\n",
    "    )"
   ]
  },
  {
   "cell_type": "code",
   "execution_count": null,
   "metadata": {},
   "outputs": [],
   "source": []
  },
  {
   "cell_type": "code",
   "execution_count": null,
   "metadata": {},
   "outputs": [],
   "source": []
  }
 ],
 "metadata": {
  "kernelspec": {
   "display_name": "tf_gpu",
   "language": "python",
   "name": "python3"
  },
  "language_info": {
   "codemirror_mode": {
    "name": "ipython",
    "version": 3
   },
   "file_extension": ".py",
   "mimetype": "text/x-python",
   "name": "python",
   "nbconvert_exporter": "python",
   "pygments_lexer": "ipython3",
   "version": "3.9.12"
  },
  "orig_nbformat": 4,
  "vscode": {
   "interpreter": {
    "hash": "197295b20122369b6502e224a1410f8bc9b22cbbcad42d16b957c3154cf64235"
   }
  }
 },
 "nbformat": 4,
 "nbformat_minor": 2
}
