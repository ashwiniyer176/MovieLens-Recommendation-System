{
 "cells": [
  {
   "cell_type": "code",
   "execution_count": 1,
   "metadata": {},
   "outputs": [],
   "source": [
    "import numpy as np\n",
    "import pandas as pd\n",
    "import matplotlib.pyplot as plt\n",
    "import seaborn as sns"
   ]
  },
  {
   "cell_type": "code",
   "execution_count": 2,
   "metadata": {},
   "outputs": [],
   "source": [
    "interaction=pd.read_csv(\"../data/ratings.csv\")\n",
    "tag_interaction=pd.read_csv(\"../data/tags.csv\")"
   ]
  },
  {
   "cell_type": "code",
   "execution_count": 3,
   "metadata": {},
   "outputs": [],
   "source": [
    "tag_interaction.dropna(inplace=True)"
   ]
  },
  {
   "cell_type": "code",
   "execution_count": 4,
   "metadata": {},
   "outputs": [
    {
     "data": {
      "text/html": [
       "<div>\n",
       "<style scoped>\n",
       "    .dataframe tbody tr th:only-of-type {\n",
       "        vertical-align: middle;\n",
       "    }\n",
       "\n",
       "    .dataframe tbody tr th {\n",
       "        vertical-align: top;\n",
       "    }\n",
       "\n",
       "    .dataframe thead th {\n",
       "        text-align: right;\n",
       "    }\n",
       "</style>\n",
       "<table border=\"1\" class=\"dataframe\">\n",
       "  <thead>\n",
       "    <tr style=\"text-align: right;\">\n",
       "      <th></th>\n",
       "      <th></th>\n",
       "      <th>tag</th>\n",
       "    </tr>\n",
       "    <tr>\n",
       "      <th>userId</th>\n",
       "      <th>movieId</th>\n",
       "      <th></th>\n",
       "    </tr>\n",
       "  </thead>\n",
       "  <tbody>\n",
       "    <tr>\n",
       "      <th>3</th>\n",
       "      <th>260</th>\n",
       "      <td>classic|sci-fi</td>\n",
       "    </tr>\n",
       "    <tr>\n",
       "      <th rowspan=\"4\" valign=\"top\">4</th>\n",
       "      <th>1732</th>\n",
       "      <td>dark comedy|great dialogue</td>\n",
       "    </tr>\n",
       "    <tr>\n",
       "      <th>7569</th>\n",
       "      <td>so bad it's good</td>\n",
       "    </tr>\n",
       "    <tr>\n",
       "      <th>44665</th>\n",
       "      <td>unreliable narrators</td>\n",
       "    </tr>\n",
       "    <tr>\n",
       "      <th>115569</th>\n",
       "      <td>tense</td>\n",
       "    </tr>\n",
       "    <tr>\n",
       "      <th>...</th>\n",
       "      <th>...</th>\n",
       "      <td>...</td>\n",
       "    </tr>\n",
       "    <tr>\n",
       "      <th rowspan=\"4\" valign=\"top\">162521</th>\n",
       "      <th>8874</th>\n",
       "      <td>cornetto triolgy</td>\n",
       "    </tr>\n",
       "    <tr>\n",
       "      <th>51255</th>\n",
       "      <td>cornetto trilogy</td>\n",
       "    </tr>\n",
       "    <tr>\n",
       "      <th>66934</th>\n",
       "      <td>Nathan Fillion|Neil Patrick Harris</td>\n",
       "    </tr>\n",
       "    <tr>\n",
       "      <th>103341</th>\n",
       "      <td>cornetto trilogy</td>\n",
       "    </tr>\n",
       "    <tr>\n",
       "      <th>162534</th>\n",
       "      <th>189169</th>\n",
       "      <td>comedy|disabled|robbery</td>\n",
       "    </tr>\n",
       "  </tbody>\n",
       "</table>\n",
       "<p>305341 rows × 1 columns</p>\n",
       "</div>"
      ],
      "text/plain": [
       "                                               tag\n",
       "userId movieId                                    \n",
       "3      260                          classic|sci-fi\n",
       "4      1732             dark comedy|great dialogue\n",
       "       7569                       so bad it's good\n",
       "       44665                  unreliable narrators\n",
       "       115569                                tense\n",
       "...                                            ...\n",
       "162521 8874                       cornetto triolgy\n",
       "       51255                      cornetto trilogy\n",
       "       66934    Nathan Fillion|Neil Patrick Harris\n",
       "       103341                     cornetto trilogy\n",
       "162534 189169              comedy|disabled|robbery\n",
       "\n",
       "[305341 rows x 1 columns]"
      ]
     },
     "execution_count": 4,
     "metadata": {},
     "output_type": "execute_result"
    }
   ],
   "source": [
    "user_movie_tag_data=pd.DataFrame(tag_interaction.groupby([\"userId\",\"movieId\"])[\"tag\"].apply(lambda x: \"|\".join(x)))\n",
    "user_movie_tag_data"
   ]
  },
  {
   "cell_type": "code",
   "execution_count": 5,
   "metadata": {},
   "outputs": [],
   "source": [
    "user_movie_tag_with_ratings=user_movie_tag_data.merge(interaction,on=[\"userId\",\"movieId\"],how=\"left\")"
   ]
  },
  {
   "cell_type": "code",
   "execution_count": 6,
   "metadata": {},
   "outputs": [],
   "source": [
    "user_metadata=user_movie_tag_with_ratings[[\"userId\",\"tag\"]]"
   ]
  },
  {
   "cell_type": "code",
   "execution_count": 7,
   "metadata": {},
   "outputs": [],
   "source": [
    "user_metadata=pd.DataFrame(user_metadata.groupby(\"userId\")[\"tag\"].apply(lambda x: \"|\".join(x)))"
   ]
  },
  {
   "cell_type": "code",
   "execution_count": 8,
   "metadata": {},
   "outputs": [
    {
     "data": {
      "text/plain": [
       "tag    0\n",
       "dtype: int64"
      ]
     },
     "execution_count": 8,
     "metadata": {},
     "output_type": "execute_result"
    }
   ],
   "source": [
    "user_metadata.isnull().sum()"
   ]
  },
  {
   "cell_type": "code",
   "execution_count": 9,
   "metadata": {},
   "outputs": [
    {
     "data": {
      "text/html": [
       "<div>\n",
       "<style scoped>\n",
       "    .dataframe tbody tr th:only-of-type {\n",
       "        vertical-align: middle;\n",
       "    }\n",
       "\n",
       "    .dataframe tbody tr th {\n",
       "        vertical-align: top;\n",
       "    }\n",
       "\n",
       "    .dataframe thead th {\n",
       "        text-align: right;\n",
       "    }\n",
       "</style>\n",
       "<table border=\"1\" class=\"dataframe\">\n",
       "  <thead>\n",
       "    <tr style=\"text-align: right;\">\n",
       "      <th></th>\n",
       "      <th>tag</th>\n",
       "    </tr>\n",
       "    <tr>\n",
       "      <th>userId</th>\n",
       "      <th></th>\n",
       "    </tr>\n",
       "  </thead>\n",
       "  <tbody>\n",
       "    <tr>\n",
       "      <th>3</th>\n",
       "      <td>classic|sci-fi</td>\n",
       "    </tr>\n",
       "    <tr>\n",
       "      <th>4</th>\n",
       "      <td>dark comedy|great dialogue|so bad it's good|un...</td>\n",
       "    </tr>\n",
       "    <tr>\n",
       "      <th>19</th>\n",
       "      <td>Oscar (Best Supporting Actress)|adventure|anim...</td>\n",
       "    </tr>\n",
       "    <tr>\n",
       "      <th>20</th>\n",
       "      <td>bah</td>\n",
       "    </tr>\n",
       "    <tr>\n",
       "      <th>43</th>\n",
       "      <td>Clint Eastwood</td>\n",
       "    </tr>\n",
       "    <tr>\n",
       "      <th>...</th>\n",
       "      <td>...</td>\n",
       "    </tr>\n",
       "    <tr>\n",
       "      <th>162495</th>\n",
       "      <td>Nudity (Full Frontal - Notable)</td>\n",
       "    </tr>\n",
       "    <tr>\n",
       "      <th>162501</th>\n",
       "      <td>crazy wife|crime|the wife did it</td>\n",
       "    </tr>\n",
       "    <tr>\n",
       "      <th>162512</th>\n",
       "      <td>the book was better|the book was better</td>\n",
       "    </tr>\n",
       "    <tr>\n",
       "      <th>162521</th>\n",
       "      <td>cornetto triolgy|cornetto trilogy|Nathan Filli...</td>\n",
       "    </tr>\n",
       "    <tr>\n",
       "      <th>162534</th>\n",
       "      <td>comedy|disabled|robbery</td>\n",
       "    </tr>\n",
       "  </tbody>\n",
       "</table>\n",
       "<p>14592 rows × 1 columns</p>\n",
       "</div>"
      ],
      "text/plain": [
       "                                                      tag\n",
       "userId                                                   \n",
       "3                                          classic|sci-fi\n",
       "4       dark comedy|great dialogue|so bad it's good|un...\n",
       "19      Oscar (Best Supporting Actress)|adventure|anim...\n",
       "20                                                    bah\n",
       "43                                         Clint Eastwood\n",
       "...                                                   ...\n",
       "162495                    Nudity (Full Frontal - Notable)\n",
       "162501                   crazy wife|crime|the wife did it\n",
       "162512            the book was better|the book was better\n",
       "162521  cornetto triolgy|cornetto trilogy|Nathan Filli...\n",
       "162534                            comedy|disabled|robbery\n",
       "\n",
       "[14592 rows x 1 columns]"
      ]
     },
     "execution_count": 9,
     "metadata": {},
     "output_type": "execute_result"
    }
   ],
   "source": [
    "user_metadata"
   ]
  },
  {
   "cell_type": "code",
   "execution_count": 10,
   "metadata": {},
   "outputs": [],
   "source": [
    "user_metadata.rename(columns={\"tag\":\"user_tags\"},inplace=True)"
   ]
  },
  {
   "cell_type": "code",
   "execution_count": 11,
   "metadata": {},
   "outputs": [
    {
     "data": {
      "text/html": [
       "<div>\n",
       "<style scoped>\n",
       "    .dataframe tbody tr th:only-of-type {\n",
       "        vertical-align: middle;\n",
       "    }\n",
       "\n",
       "    .dataframe tbody tr th {\n",
       "        vertical-align: top;\n",
       "    }\n",
       "\n",
       "    .dataframe thead th {\n",
       "        text-align: right;\n",
       "    }\n",
       "</style>\n",
       "<table border=\"1\" class=\"dataframe\">\n",
       "  <thead>\n",
       "    <tr style=\"text-align: right;\">\n",
       "      <th></th>\n",
       "      <th>user_tags</th>\n",
       "    </tr>\n",
       "    <tr>\n",
       "      <th>userId</th>\n",
       "      <th></th>\n",
       "    </tr>\n",
       "  </thead>\n",
       "  <tbody>\n",
       "    <tr>\n",
       "      <th>3</th>\n",
       "      <td>classic|sci-fi</td>\n",
       "    </tr>\n",
       "    <tr>\n",
       "      <th>4</th>\n",
       "      <td>unreliable narrators|unpredictable|so bad it's...</td>\n",
       "    </tr>\n",
       "    <tr>\n",
       "      <th>19</th>\n",
       "      <td>post-apocalyptic|fantasy|anime|adventure|Hayao...</td>\n",
       "    </tr>\n",
       "    <tr>\n",
       "      <th>20</th>\n",
       "      <td>bah</td>\n",
       "    </tr>\n",
       "    <tr>\n",
       "      <th>43</th>\n",
       "      <td>Clint Eastwood</td>\n",
       "    </tr>\n",
       "    <tr>\n",
       "      <th>...</th>\n",
       "      <td>...</td>\n",
       "    </tr>\n",
       "    <tr>\n",
       "      <th>162495</th>\n",
       "      <td>Nudity (Full Frontal - Notable)</td>\n",
       "    </tr>\n",
       "    <tr>\n",
       "      <th>162501</th>\n",
       "      <td>crime|the wife did it|crazy wife</td>\n",
       "    </tr>\n",
       "    <tr>\n",
       "      <th>162512</th>\n",
       "      <td>the book was better</td>\n",
       "    </tr>\n",
       "    <tr>\n",
       "      <th>162521</th>\n",
       "      <td>cornetto trilogy|Nathan Fillion|Neil Patrick H...</td>\n",
       "    </tr>\n",
       "    <tr>\n",
       "      <th>162534</th>\n",
       "      <td>disabled|comedy|robbery</td>\n",
       "    </tr>\n",
       "  </tbody>\n",
       "</table>\n",
       "<p>14592 rows × 1 columns</p>\n",
       "</div>"
      ],
      "text/plain": [
       "                                                user_tags\n",
       "userId                                                   \n",
       "3                                          classic|sci-fi\n",
       "4       unreliable narrators|unpredictable|so bad it's...\n",
       "19      post-apocalyptic|fantasy|anime|adventure|Hayao...\n",
       "20                                                    bah\n",
       "43                                         Clint Eastwood\n",
       "...                                                   ...\n",
       "162495                    Nudity (Full Frontal - Notable)\n",
       "162501                   crime|the wife did it|crazy wife\n",
       "162512                                the book was better\n",
       "162521  cornetto trilogy|Nathan Fillion|Neil Patrick H...\n",
       "162534                            disabled|comedy|robbery\n",
       "\n",
       "[14592 rows x 1 columns]"
      ]
     },
     "execution_count": 11,
     "metadata": {},
     "output_type": "execute_result"
    }
   ],
   "source": [
    "user_metadata = pd.DataFrame(user_metadata[\"user_tags\"].apply(lambda x: \"|\".join(set(x.split(\"|\")))))\n",
    "user_metadata"
   ]
  },
  {
   "cell_type": "code",
   "execution_count": null,
   "metadata": {},
   "outputs": [],
   "source": []
  },
  {
   "cell_type": "code",
   "execution_count": 12,
   "metadata": {},
   "outputs": [
    {
     "data": {
      "text/html": [
       "<div>\n",
       "<style scoped>\n",
       "    .dataframe tbody tr th:only-of-type {\n",
       "        vertical-align: middle;\n",
       "    }\n",
       "\n",
       "    .dataframe tbody tr th {\n",
       "        vertical-align: top;\n",
       "    }\n",
       "\n",
       "    .dataframe thead th {\n",
       "        text-align: right;\n",
       "    }\n",
       "</style>\n",
       "<table border=\"1\" class=\"dataframe\">\n",
       "  <thead>\n",
       "    <tr style=\"text-align: right;\">\n",
       "      <th></th>\n",
       "      <th>user_tags</th>\n",
       "    </tr>\n",
       "    <tr>\n",
       "      <th>userId</th>\n",
       "      <th></th>\n",
       "    </tr>\n",
       "  </thead>\n",
       "  <tbody>\n",
       "    <tr>\n",
       "      <th>3</th>\n",
       "      <td>classic|sci-fi</td>\n",
       "    </tr>\n",
       "    <tr>\n",
       "      <th>4</th>\n",
       "      <td>unreliable narrators|unpredictable|so bad it's...</td>\n",
       "    </tr>\n",
       "    <tr>\n",
       "      <th>19</th>\n",
       "      <td>post-apocalyptic|fantasy|anime|adventure|Hayao...</td>\n",
       "    </tr>\n",
       "    <tr>\n",
       "      <th>20</th>\n",
       "      <td>bah</td>\n",
       "    </tr>\n",
       "    <tr>\n",
       "      <th>43</th>\n",
       "      <td>Clint Eastwood</td>\n",
       "    </tr>\n",
       "    <tr>\n",
       "      <th>...</th>\n",
       "      <td>...</td>\n",
       "    </tr>\n",
       "    <tr>\n",
       "      <th>162495</th>\n",
       "      <td>Nudity (Full Frontal - Notable)</td>\n",
       "    </tr>\n",
       "    <tr>\n",
       "      <th>162501</th>\n",
       "      <td>crime|the wife did it|crazy wife</td>\n",
       "    </tr>\n",
       "    <tr>\n",
       "      <th>162512</th>\n",
       "      <td>the book was better</td>\n",
       "    </tr>\n",
       "    <tr>\n",
       "      <th>162521</th>\n",
       "      <td>cornetto trilogy|Nathan Fillion|Neil Patrick H...</td>\n",
       "    </tr>\n",
       "    <tr>\n",
       "      <th>162534</th>\n",
       "      <td>disabled|comedy|robbery</td>\n",
       "    </tr>\n",
       "  </tbody>\n",
       "</table>\n",
       "<p>14592 rows × 1 columns</p>\n",
       "</div>"
      ],
      "text/plain": [
       "                                                user_tags\n",
       "userId                                                   \n",
       "3                                          classic|sci-fi\n",
       "4       unreliable narrators|unpredictable|so bad it's...\n",
       "19      post-apocalyptic|fantasy|anime|adventure|Hayao...\n",
       "20                                                    bah\n",
       "43                                         Clint Eastwood\n",
       "...                                                   ...\n",
       "162495                    Nudity (Full Frontal - Notable)\n",
       "162501                   crime|the wife did it|crazy wife\n",
       "162512                                the book was better\n",
       "162521  cornetto trilogy|Nathan Fillion|Neil Patrick H...\n",
       "162534                            disabled|comedy|robbery\n",
       "\n",
       "[14592 rows x 1 columns]"
      ]
     },
     "execution_count": 12,
     "metadata": {},
     "output_type": "execute_result"
    }
   ],
   "source": [
    "user_metadata"
   ]
  },
  {
   "cell_type": "code",
   "execution_count": 13,
   "metadata": {},
   "outputs": [],
   "source": [
    "most_relevant_tags = pd.read_csv(\"../data/most_relevant_tags.csv\")"
   ]
  },
  {
   "cell_type": "code",
   "execution_count": 14,
   "metadata": {},
   "outputs": [],
   "source": [
    "cold_start_tags = most_relevant_tags[\"tag\"].tolist()"
   ]
  },
  {
   "cell_type": "code",
   "execution_count": 15,
   "metadata": {},
   "outputs": [],
   "source": [
    "cold_start_tags = \"|\".join(cold_start_tags)"
   ]
  },
  {
   "cell_type": "code",
   "execution_count": 16,
   "metadata": {},
   "outputs": [
    {
     "data": {
      "text/plain": [
       "'original|mentor|catastrophe|great ending|storytelling'"
      ]
     },
     "execution_count": 16,
     "metadata": {},
     "output_type": "execute_result"
    }
   ],
   "source": [
    "cold_start_tags"
   ]
  },
  {
   "cell_type": "code",
   "execution_count": 17,
   "metadata": {},
   "outputs": [],
   "source": [
    "def create_cold_start_tags(user_tags,cold_start_tags):\n",
    "    if len(user_tags.split(\"|\"))<=2:\n",
    "        return user_tags + \"|\" + cold_start_tags\n",
    "    return user_tags"
   ]
  },
  {
   "cell_type": "code",
   "execution_count": 18,
   "metadata": {},
   "outputs": [
    {
     "data": {
      "text/plain": [
       "'sci-fi|classic|horror'"
      ]
     },
     "execution_count": 18,
     "metadata": {},
     "output_type": "execute_result"
    }
   ],
   "source": [
    "create_cold_start_tags(\"sci-fi|classic|horror\",cold_start_tags)"
   ]
  },
  {
   "cell_type": "code",
   "execution_count": 19,
   "metadata": {},
   "outputs": [],
   "source": [
    "user_metadata[\"user_tags\"] = user_metadata[\"user_tags\"].apply(lambda x: create_cold_start_tags(x,cold_start_tags))"
   ]
  },
  {
   "cell_type": "code",
   "execution_count": 20,
   "metadata": {},
   "outputs": [
    {
     "data": {
      "text/plain": [
       "count    14592.000000\n",
       "mean        38.222519\n",
       "std        234.937633\n",
       "min          3.000000\n",
       "25%          6.000000\n",
       "50%          7.000000\n",
       "75%         16.000000\n",
       "max      20765.000000\n",
       "Name: user_tag_length, dtype: float64"
      ]
     },
     "execution_count": 20,
     "metadata": {},
     "output_type": "execute_result"
    }
   ],
   "source": [
    "user_metadata[\"user_tag_length\"] = user_metadata[\"user_tags\"].apply(lambda x:len(x.split(\"|\")))\n",
    "user_metadata[\"user_tag_length\"].describe()"
   ]
  },
  {
   "cell_type": "code",
   "execution_count": 21,
   "metadata": {},
   "outputs": [],
   "source": [
    "# user_metadata = user_metadata[\"user_tag_length\"].apply(lambda x: )"
   ]
  },
  {
   "cell_type": "code",
   "execution_count": 22,
   "metadata": {},
   "outputs": [],
   "source": [
    "user_metadata = user_metadata[(user_metadata[\"user_tag_length\"]<=40) & (user_metadata[\"user_tag_length\"]>=2)]"
   ]
  },
  {
   "cell_type": "code",
   "execution_count": 23,
   "metadata": {},
   "outputs": [
    {
     "data": {
      "text/html": [
       "<div>\n",
       "<style scoped>\n",
       "    .dataframe tbody tr th:only-of-type {\n",
       "        vertical-align: middle;\n",
       "    }\n",
       "\n",
       "    .dataframe tbody tr th {\n",
       "        vertical-align: top;\n",
       "    }\n",
       "\n",
       "    .dataframe thead th {\n",
       "        text-align: right;\n",
       "    }\n",
       "</style>\n",
       "<table border=\"1\" class=\"dataframe\">\n",
       "  <thead>\n",
       "    <tr style=\"text-align: right;\">\n",
       "      <th></th>\n",
       "      <th>user_tags</th>\n",
       "      <th>user_tag_length</th>\n",
       "    </tr>\n",
       "    <tr>\n",
       "      <th>userId</th>\n",
       "      <th></th>\n",
       "      <th></th>\n",
       "    </tr>\n",
       "  </thead>\n",
       "  <tbody>\n",
       "    <tr>\n",
       "      <th>3</th>\n",
       "      <td>classic|sci-fi|original|mentor|catastrophe|gre...</td>\n",
       "      <td>7</td>\n",
       "    </tr>\n",
       "    <tr>\n",
       "      <th>4</th>\n",
       "      <td>unreliable narrators|unpredictable|so bad it's...</td>\n",
       "      <td>11</td>\n",
       "    </tr>\n",
       "    <tr>\n",
       "      <th>19</th>\n",
       "      <td>post-apocalyptic|fantasy|anime|adventure|Hayao...</td>\n",
       "      <td>8</td>\n",
       "    </tr>\n",
       "    <tr>\n",
       "      <th>20</th>\n",
       "      <td>bah|original|mentor|catastrophe|great ending|s...</td>\n",
       "      <td>6</td>\n",
       "    </tr>\n",
       "    <tr>\n",
       "      <th>43</th>\n",
       "      <td>Clint Eastwood|original|mentor|catastrophe|gre...</td>\n",
       "      <td>6</td>\n",
       "    </tr>\n",
       "    <tr>\n",
       "      <th>...</th>\n",
       "      <td>...</td>\n",
       "      <td>...</td>\n",
       "    </tr>\n",
       "    <tr>\n",
       "      <th>162495</th>\n",
       "      <td>Nudity (Full Frontal - Notable)|original|mento...</td>\n",
       "      <td>6</td>\n",
       "    </tr>\n",
       "    <tr>\n",
       "      <th>162501</th>\n",
       "      <td>crime|the wife did it|crazy wife</td>\n",
       "      <td>3</td>\n",
       "    </tr>\n",
       "    <tr>\n",
       "      <th>162512</th>\n",
       "      <td>the book was better|original|mentor|catastroph...</td>\n",
       "      <td>6</td>\n",
       "    </tr>\n",
       "    <tr>\n",
       "      <th>162521</th>\n",
       "      <td>cornetto trilogy|Nathan Fillion|Neil Patrick H...</td>\n",
       "      <td>4</td>\n",
       "    </tr>\n",
       "    <tr>\n",
       "      <th>162534</th>\n",
       "      <td>disabled|comedy|robbery</td>\n",
       "      <td>3</td>\n",
       "    </tr>\n",
       "  </tbody>\n",
       "</table>\n",
       "<p>12525 rows × 2 columns</p>\n",
       "</div>"
      ],
      "text/plain": [
       "                                                user_tags  user_tag_length\n",
       "userId                                                                    \n",
       "3       classic|sci-fi|original|mentor|catastrophe|gre...                7\n",
       "4       unreliable narrators|unpredictable|so bad it's...               11\n",
       "19      post-apocalyptic|fantasy|anime|adventure|Hayao...                8\n",
       "20      bah|original|mentor|catastrophe|great ending|s...                6\n",
       "43      Clint Eastwood|original|mentor|catastrophe|gre...                6\n",
       "...                                                   ...              ...\n",
       "162495  Nudity (Full Frontal - Notable)|original|mento...                6\n",
       "162501                   crime|the wife did it|crazy wife                3\n",
       "162512  the book was better|original|mentor|catastroph...                6\n",
       "162521  cornetto trilogy|Nathan Fillion|Neil Patrick H...                4\n",
       "162534                            disabled|comedy|robbery                3\n",
       "\n",
       "[12525 rows x 2 columns]"
      ]
     },
     "execution_count": 23,
     "metadata": {},
     "output_type": "execute_result"
    }
   ],
   "source": [
    "user_metadata"
   ]
  },
  {
   "cell_type": "code",
   "execution_count": null,
   "metadata": {},
   "outputs": [],
   "source": []
  },
  {
   "cell_type": "code",
   "execution_count": null,
   "metadata": {},
   "outputs": [],
   "source": []
  },
  {
   "cell_type": "code",
   "execution_count": 24,
   "metadata": {},
   "outputs": [],
   "source": [
    "user_metadata.to_csv(\"../data/user_metadata.csv\")"
   ]
  },
  {
   "cell_type": "code",
   "execution_count": null,
   "metadata": {},
   "outputs": [],
   "source": []
  }
 ],
 "metadata": {
  "kernelspec": {
   "display_name": "tf_gpu",
   "language": "python",
   "name": "python3"
  },
  "language_info": {
   "codemirror_mode": {
    "name": "ipython",
    "version": 3
   },
   "file_extension": ".py",
   "mimetype": "text/x-python",
   "name": "python",
   "nbconvert_exporter": "python",
   "pygments_lexer": "ipython3",
   "version": "3.9.12"
  },
  "orig_nbformat": 4
 },
 "nbformat": 4,
 "nbformat_minor": 2
}
