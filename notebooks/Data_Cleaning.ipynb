{
 "cells": [
  {
   "cell_type": "code",
   "execution_count": 1,
   "metadata": {},
   "outputs": [],
   "source": [
    "import numpy as np\n",
    "import pandas as pd\n",
    "import matplotlib.pyplot as plt\n",
    "import seaborn as sns\n",
    "\n",
    "from sklearn.model_selection import train_test_split"
   ]
  },
  {
   "cell_type": "code",
   "execution_count": 2,
   "metadata": {},
   "outputs": [],
   "source": [
    "import re"
   ]
  },
  {
   "cell_type": "code",
   "execution_count": 3,
   "metadata": {},
   "outputs": [],
   "source": [
    "dataset = pd.read_csv(\"../data/Master_dataset.csv\")"
   ]
  },
  {
   "cell_type": "code",
   "execution_count": 4,
   "metadata": {},
   "outputs": [],
   "source": [
    "def preprocess_string(s):\n",
    "    s=s.lower()\n",
    "    s=set(s.split(\"|\"))\n",
    "    s=\"|\".join(s)\n",
    "    s=s.replace(\"|\",\" \")\n",
    "    preprocessed=re.sub(\"[^a-zA-Z\\s]\",\"\",s)\n",
    "    preprocessed=re.sub(r\"\\s{2,}\", \" \",preprocessed)\n",
    "    return preprocessed"
   ]
  },
  {
   "cell_type": "code",
   "execution_count": 5,
   "metadata": {},
   "outputs": [
    {
     "data": {
      "text/plain": [
       "'dark humor bloody imdb top gangsters crime gone awry'"
      ]
     },
     "execution_count": 5,
     "metadata": {},
     "output_type": "execute_result"
    }
   ],
   "source": [
    "preprocess_string(\"bloody|Crime gone awry|dark humor|gangster's|imdb top 250\")"
   ]
  },
  {
   "cell_type": "code",
   "execution_count": 6,
   "metadata": {},
   "outputs": [],
   "source": [
    "train,test=train_test_split(dataset,test_size=0.35)\n",
    "test,validation=train_test_split(dataset,test_size=0.5)"
   ]
  },
  {
   "cell_type": "code",
   "execution_count": 7,
   "metadata": {},
   "outputs": [
    {
     "data": {
      "text/plain": [
       "Unnamed: 0        0\n",
       "user_tags         0\n",
       "movie_tags    19814\n",
       "rating            0\n",
       "dtype: int64"
      ]
     },
     "execution_count": 7,
     "metadata": {},
     "output_type": "execute_result"
    }
   ],
   "source": [
    "train.isnull().sum()"
   ]
  },
  {
   "cell_type": "code",
   "execution_count": 8,
   "metadata": {},
   "outputs": [],
   "source": [
    "def prep_data(data):\n",
    "    data[\"user_tags\"]=data[\"user_tags\"].apply(lambda x: preprocess_string(x))\n",
    "    data[\"movie_tags\"]=data[\"movie_tags\"].apply(lambda x: preprocess_string(x))\n",
    "    data[\"user_tags_length\"]=data[\"user_tags\"].apply(lambda x: len(x.split(\"|\")))\n",
    "    data[\"movie_tags_length\"]=data[\"tag\"].apply(lambda x:len(x.split(\"|\")))    \n",
    "    return data"
   ]
  },
  {
   "cell_type": "code",
   "execution_count": 9,
   "metadata": {},
   "outputs": [
    {
     "ename": "AttributeError",
     "evalue": "'float' object has no attribute 'lower'",
     "output_type": "error",
     "traceback": [
      "\u001b[1;31m---------------------------------------------------------------------------\u001b[0m",
      "\u001b[1;31mAttributeError\u001b[0m                            Traceback (most recent call last)",
      "\u001b[1;32mc:\\Users\\Ashwin\\Projects\\MovieLens-Recommendation-System\\notebooks\\Data_Cleaning.ipynb Cell 9\u001b[0m in \u001b[0;36m<cell line: 1>\u001b[1;34m()\u001b[0m\n\u001b[1;32m----> <a href='vscode-notebook-cell:/c%3A/Users/Ashwin/Projects/MovieLens-Recommendation-System/notebooks/Data_Cleaning.ipynb#X53sZmlsZQ%3D%3D?line=0'>1</a>\u001b[0m train \u001b[39m=\u001b[39m prep_data(train)\n\u001b[0;32m      <a href='vscode-notebook-cell:/c%3A/Users/Ashwin/Projects/MovieLens-Recommendation-System/notebooks/Data_Cleaning.ipynb#X53sZmlsZQ%3D%3D?line=1'>2</a>\u001b[0m test \u001b[39m=\u001b[39m prep_data(test)\n\u001b[0;32m      <a href='vscode-notebook-cell:/c%3A/Users/Ashwin/Projects/MovieLens-Recommendation-System/notebooks/Data_Cleaning.ipynb#X53sZmlsZQ%3D%3D?line=2'>3</a>\u001b[0m validation \u001b[39m=\u001b[39m prep_data(validation)\n",
      "\u001b[1;32mc:\\Users\\Ashwin\\Projects\\MovieLens-Recommendation-System\\notebooks\\Data_Cleaning.ipynb Cell 9\u001b[0m in \u001b[0;36mprep_data\u001b[1;34m(data)\u001b[0m\n\u001b[0;32m      <a href='vscode-notebook-cell:/c%3A/Users/Ashwin/Projects/MovieLens-Recommendation-System/notebooks/Data_Cleaning.ipynb#X53sZmlsZQ%3D%3D?line=0'>1</a>\u001b[0m \u001b[39mdef\u001b[39;00m \u001b[39mprep_data\u001b[39m(data):\n\u001b[0;32m      <a href='vscode-notebook-cell:/c%3A/Users/Ashwin/Projects/MovieLens-Recommendation-System/notebooks/Data_Cleaning.ipynb#X53sZmlsZQ%3D%3D?line=1'>2</a>\u001b[0m     data[\u001b[39m\"\u001b[39m\u001b[39muser_tags\u001b[39m\u001b[39m\"\u001b[39m]\u001b[39m=\u001b[39mdata[\u001b[39m\"\u001b[39m\u001b[39muser_tags\u001b[39m\u001b[39m\"\u001b[39m]\u001b[39m.\u001b[39mapply(\u001b[39mlambda\u001b[39;00m x: preprocess_string(x))\n\u001b[1;32m----> <a href='vscode-notebook-cell:/c%3A/Users/Ashwin/Projects/MovieLens-Recommendation-System/notebooks/Data_Cleaning.ipynb#X53sZmlsZQ%3D%3D?line=2'>3</a>\u001b[0m     data[\u001b[39m\"\u001b[39m\u001b[39mmovie_tags\u001b[39m\u001b[39m\"\u001b[39m]\u001b[39m=\u001b[39mdata[\u001b[39m\"\u001b[39;49m\u001b[39mmovie_tags\u001b[39;49m\u001b[39m\"\u001b[39;49m]\u001b[39m.\u001b[39;49mapply(\u001b[39mlambda\u001b[39;49;00m x: preprocess_string(x))\n\u001b[0;32m      <a href='vscode-notebook-cell:/c%3A/Users/Ashwin/Projects/MovieLens-Recommendation-System/notebooks/Data_Cleaning.ipynb#X53sZmlsZQ%3D%3D?line=3'>4</a>\u001b[0m     data[\u001b[39m\"\u001b[39m\u001b[39muser_tags_length\u001b[39m\u001b[39m\"\u001b[39m]\u001b[39m=\u001b[39mdata[\u001b[39m\"\u001b[39m\u001b[39muser_tags\u001b[39m\u001b[39m\"\u001b[39m]\u001b[39m.\u001b[39mapply(\u001b[39mlambda\u001b[39;00m x: \u001b[39mlen\u001b[39m(x\u001b[39m.\u001b[39msplit(\u001b[39m\"\u001b[39m\u001b[39m|\u001b[39m\u001b[39m\"\u001b[39m)))\n\u001b[0;32m      <a href='vscode-notebook-cell:/c%3A/Users/Ashwin/Projects/MovieLens-Recommendation-System/notebooks/Data_Cleaning.ipynb#X53sZmlsZQ%3D%3D?line=4'>5</a>\u001b[0m     data[\u001b[39m\"\u001b[39m\u001b[39mmovie_tags_length\u001b[39m\u001b[39m\"\u001b[39m]\u001b[39m=\u001b[39mdata[\u001b[39m\"\u001b[39m\u001b[39mtag\u001b[39m\u001b[39m\"\u001b[39m]\u001b[39m.\u001b[39mapply(\u001b[39mlambda\u001b[39;00m x:\u001b[39mlen\u001b[39m(x\u001b[39m.\u001b[39msplit(\u001b[39m\"\u001b[39m\u001b[39m|\u001b[39m\u001b[39m\"\u001b[39m)))    \n",
      "File \u001b[1;32mc:\\Users\\Ashwin\\miniconda3\\envs\\tf_gpu\\lib\\site-packages\\pandas\\core\\series.py:4433\u001b[0m, in \u001b[0;36mSeries.apply\u001b[1;34m(self, func, convert_dtype, args, **kwargs)\u001b[0m\n\u001b[0;32m   4323\u001b[0m \u001b[39mdef\u001b[39;00m \u001b[39mapply\u001b[39m(\n\u001b[0;32m   4324\u001b[0m     \u001b[39mself\u001b[39m,\n\u001b[0;32m   4325\u001b[0m     func: AggFuncType,\n\u001b[1;32m   (...)\u001b[0m\n\u001b[0;32m   4328\u001b[0m     \u001b[39m*\u001b[39m\u001b[39m*\u001b[39mkwargs,\n\u001b[0;32m   4329\u001b[0m ) \u001b[39m-\u001b[39m\u001b[39m>\u001b[39m DataFrame \u001b[39m|\u001b[39m Series:\n\u001b[0;32m   4330\u001b[0m     \u001b[39m\"\"\"\u001b[39;00m\n\u001b[0;32m   4331\u001b[0m \u001b[39m    Invoke function on values of Series.\u001b[39;00m\n\u001b[0;32m   4332\u001b[0m \n\u001b[1;32m   (...)\u001b[0m\n\u001b[0;32m   4431\u001b[0m \u001b[39m    dtype: float64\u001b[39;00m\n\u001b[0;32m   4432\u001b[0m \u001b[39m    \"\"\"\u001b[39;00m\n\u001b[1;32m-> 4433\u001b[0m     \u001b[39mreturn\u001b[39;00m SeriesApply(\u001b[39mself\u001b[39;49m, func, convert_dtype, args, kwargs)\u001b[39m.\u001b[39;49mapply()\n",
      "File \u001b[1;32mc:\\Users\\Ashwin\\miniconda3\\envs\\tf_gpu\\lib\\site-packages\\pandas\\core\\apply.py:1088\u001b[0m, in \u001b[0;36mSeriesApply.apply\u001b[1;34m(self)\u001b[0m\n\u001b[0;32m   1084\u001b[0m \u001b[39mif\u001b[39;00m \u001b[39misinstance\u001b[39m(\u001b[39mself\u001b[39m\u001b[39m.\u001b[39mf, \u001b[39mstr\u001b[39m):\n\u001b[0;32m   1085\u001b[0m     \u001b[39m# if we are a string, try to dispatch\u001b[39;00m\n\u001b[0;32m   1086\u001b[0m     \u001b[39mreturn\u001b[39;00m \u001b[39mself\u001b[39m\u001b[39m.\u001b[39mapply_str()\n\u001b[1;32m-> 1088\u001b[0m \u001b[39mreturn\u001b[39;00m \u001b[39mself\u001b[39;49m\u001b[39m.\u001b[39;49mapply_standard()\n",
      "File \u001b[1;32mc:\\Users\\Ashwin\\miniconda3\\envs\\tf_gpu\\lib\\site-packages\\pandas\\core\\apply.py:1143\u001b[0m, in \u001b[0;36mSeriesApply.apply_standard\u001b[1;34m(self)\u001b[0m\n\u001b[0;32m   1137\u001b[0m         values \u001b[39m=\u001b[39m obj\u001b[39m.\u001b[39mastype(\u001b[39mobject\u001b[39m)\u001b[39m.\u001b[39m_values\n\u001b[0;32m   1138\u001b[0m         \u001b[39m# error: Argument 2 to \"map_infer\" has incompatible type\u001b[39;00m\n\u001b[0;32m   1139\u001b[0m         \u001b[39m# \"Union[Callable[..., Any], str, List[Union[Callable[..., Any], str]],\u001b[39;00m\n\u001b[0;32m   1140\u001b[0m         \u001b[39m# Dict[Hashable, Union[Union[Callable[..., Any], str],\u001b[39;00m\n\u001b[0;32m   1141\u001b[0m         \u001b[39m# List[Union[Callable[..., Any], str]]]]]\"; expected\u001b[39;00m\n\u001b[0;32m   1142\u001b[0m         \u001b[39m# \"Callable[[Any], Any]\"\u001b[39;00m\n\u001b[1;32m-> 1143\u001b[0m         mapped \u001b[39m=\u001b[39m lib\u001b[39m.\u001b[39;49mmap_infer(\n\u001b[0;32m   1144\u001b[0m             values,\n\u001b[0;32m   1145\u001b[0m             f,  \u001b[39m# type: ignore[arg-type]\u001b[39;49;00m\n\u001b[0;32m   1146\u001b[0m             convert\u001b[39m=\u001b[39;49m\u001b[39mself\u001b[39;49m\u001b[39m.\u001b[39;49mconvert_dtype,\n\u001b[0;32m   1147\u001b[0m         )\n\u001b[0;32m   1149\u001b[0m \u001b[39mif\u001b[39;00m \u001b[39mlen\u001b[39m(mapped) \u001b[39mand\u001b[39;00m \u001b[39misinstance\u001b[39m(mapped[\u001b[39m0\u001b[39m], ABCSeries):\n\u001b[0;32m   1150\u001b[0m     \u001b[39m# GH#43986 Need to do list(mapped) in order to get treated as nested\u001b[39;00m\n\u001b[0;32m   1151\u001b[0m     \u001b[39m#  See also GH#25959 regarding EA support\u001b[39;00m\n\u001b[0;32m   1152\u001b[0m     \u001b[39mreturn\u001b[39;00m obj\u001b[39m.\u001b[39m_constructor_expanddim(\u001b[39mlist\u001b[39m(mapped), index\u001b[39m=\u001b[39mobj\u001b[39m.\u001b[39mindex)\n",
      "File \u001b[1;32mc:\\Users\\Ashwin\\miniconda3\\envs\\tf_gpu\\lib\\site-packages\\pandas\\_libs\\lib.pyx:2870\u001b[0m, in \u001b[0;36mpandas._libs.lib.map_infer\u001b[1;34m()\u001b[0m\n",
      "\u001b[1;32mc:\\Users\\Ashwin\\Projects\\MovieLens-Recommendation-System\\notebooks\\Data_Cleaning.ipynb Cell 9\u001b[0m in \u001b[0;36mprep_data.<locals>.<lambda>\u001b[1;34m(x)\u001b[0m\n\u001b[0;32m      <a href='vscode-notebook-cell:/c%3A/Users/Ashwin/Projects/MovieLens-Recommendation-System/notebooks/Data_Cleaning.ipynb#X53sZmlsZQ%3D%3D?line=0'>1</a>\u001b[0m \u001b[39mdef\u001b[39;00m \u001b[39mprep_data\u001b[39m(data):\n\u001b[0;32m      <a href='vscode-notebook-cell:/c%3A/Users/Ashwin/Projects/MovieLens-Recommendation-System/notebooks/Data_Cleaning.ipynb#X53sZmlsZQ%3D%3D?line=1'>2</a>\u001b[0m     data[\u001b[39m\"\u001b[39m\u001b[39muser_tags\u001b[39m\u001b[39m\"\u001b[39m]\u001b[39m=\u001b[39mdata[\u001b[39m\"\u001b[39m\u001b[39muser_tags\u001b[39m\u001b[39m\"\u001b[39m]\u001b[39m.\u001b[39mapply(\u001b[39mlambda\u001b[39;00m x: preprocess_string(x))\n\u001b[1;32m----> <a href='vscode-notebook-cell:/c%3A/Users/Ashwin/Projects/MovieLens-Recommendation-System/notebooks/Data_Cleaning.ipynb#X53sZmlsZQ%3D%3D?line=2'>3</a>\u001b[0m     data[\u001b[39m\"\u001b[39m\u001b[39mmovie_tags\u001b[39m\u001b[39m\"\u001b[39m]\u001b[39m=\u001b[39mdata[\u001b[39m\"\u001b[39m\u001b[39mmovie_tags\u001b[39m\u001b[39m\"\u001b[39m]\u001b[39m.\u001b[39mapply(\u001b[39mlambda\u001b[39;00m x: preprocess_string(x))\n\u001b[0;32m      <a href='vscode-notebook-cell:/c%3A/Users/Ashwin/Projects/MovieLens-Recommendation-System/notebooks/Data_Cleaning.ipynb#X53sZmlsZQ%3D%3D?line=3'>4</a>\u001b[0m     data[\u001b[39m\"\u001b[39m\u001b[39muser_tags_length\u001b[39m\u001b[39m\"\u001b[39m]\u001b[39m=\u001b[39mdata[\u001b[39m\"\u001b[39m\u001b[39muser_tags\u001b[39m\u001b[39m\"\u001b[39m]\u001b[39m.\u001b[39mapply(\u001b[39mlambda\u001b[39;00m x: \u001b[39mlen\u001b[39m(x\u001b[39m.\u001b[39msplit(\u001b[39m\"\u001b[39m\u001b[39m|\u001b[39m\u001b[39m\"\u001b[39m)))\n\u001b[0;32m      <a href='vscode-notebook-cell:/c%3A/Users/Ashwin/Projects/MovieLens-Recommendation-System/notebooks/Data_Cleaning.ipynb#X53sZmlsZQ%3D%3D?line=4'>5</a>\u001b[0m     data[\u001b[39m\"\u001b[39m\u001b[39mmovie_tags_length\u001b[39m\u001b[39m\"\u001b[39m]\u001b[39m=\u001b[39mdata[\u001b[39m\"\u001b[39m\u001b[39mtag\u001b[39m\u001b[39m\"\u001b[39m]\u001b[39m.\u001b[39mapply(\u001b[39mlambda\u001b[39;00m x:\u001b[39mlen\u001b[39m(x\u001b[39m.\u001b[39msplit(\u001b[39m\"\u001b[39m\u001b[39m|\u001b[39m\u001b[39m\"\u001b[39m)))    \n",
      "\u001b[1;32mc:\\Users\\Ashwin\\Projects\\MovieLens-Recommendation-System\\notebooks\\Data_Cleaning.ipynb Cell 9\u001b[0m in \u001b[0;36mpreprocess_string\u001b[1;34m(s)\u001b[0m\n\u001b[0;32m      <a href='vscode-notebook-cell:/c%3A/Users/Ashwin/Projects/MovieLens-Recommendation-System/notebooks/Data_Cleaning.ipynb#X53sZmlsZQ%3D%3D?line=0'>1</a>\u001b[0m \u001b[39mdef\u001b[39;00m \u001b[39mpreprocess_string\u001b[39m(s):\n\u001b[1;32m----> <a href='vscode-notebook-cell:/c%3A/Users/Ashwin/Projects/MovieLens-Recommendation-System/notebooks/Data_Cleaning.ipynb#X53sZmlsZQ%3D%3D?line=1'>2</a>\u001b[0m     s\u001b[39m=\u001b[39ms\u001b[39m.\u001b[39;49mlower()\n\u001b[0;32m      <a href='vscode-notebook-cell:/c%3A/Users/Ashwin/Projects/MovieLens-Recommendation-System/notebooks/Data_Cleaning.ipynb#X53sZmlsZQ%3D%3D?line=2'>3</a>\u001b[0m     s\u001b[39m=\u001b[39m\u001b[39mset\u001b[39m(s\u001b[39m.\u001b[39msplit(\u001b[39m\"\u001b[39m\u001b[39m|\u001b[39m\u001b[39m\"\u001b[39m))\n\u001b[0;32m      <a href='vscode-notebook-cell:/c%3A/Users/Ashwin/Projects/MovieLens-Recommendation-System/notebooks/Data_Cleaning.ipynb#X53sZmlsZQ%3D%3D?line=3'>4</a>\u001b[0m     s\u001b[39m=\u001b[39m\u001b[39m\"\u001b[39m\u001b[39m|\u001b[39m\u001b[39m\"\u001b[39m\u001b[39m.\u001b[39mjoin(s)\n",
      "\u001b[1;31mAttributeError\u001b[0m: 'float' object has no attribute 'lower'"
     ]
    }
   ],
   "source": [
    "train = prep_data(train)\n",
    "test = prep_data(test)\n",
    "validation = prep_data(validation)"
   ]
  },
  {
   "cell_type": "code",
   "execution_count": null,
   "metadata": {},
   "outputs": [],
   "source": []
  },
  {
   "cell_type": "code",
   "execution_count": null,
   "metadata": {},
   "outputs": [],
   "source": [
    "user_item_data[\"user_tags_length\"]=user_item_data[\"user_tags\"].apply(lambda x: len(x))\n",
    "user_item_data[\"movie_tag_length\"]=dataset[\"tag\"].apply(lambda x:len(x))"
   ]
  },
  {
   "cell_type": "code",
   "execution_count": null,
   "metadata": {},
   "outputs": [
    {
     "data": {
      "text/html": [
       "<div>\n",
       "<style scoped>\n",
       "    .dataframe tbody tr th:only-of-type {\n",
       "        vertical-align: middle;\n",
       "    }\n",
       "\n",
       "    .dataframe tbody tr th {\n",
       "        vertical-align: top;\n",
       "    }\n",
       "\n",
       "    .dataframe thead th {\n",
       "        text-align: right;\n",
       "    }\n",
       "</style>\n",
       "<table border=\"1\" class=\"dataframe\">\n",
       "  <thead>\n",
       "    <tr style=\"text-align: right;\">\n",
       "      <th></th>\n",
       "      <th>user_tags</th>\n",
       "      <th>tag</th>\n",
       "      <th>rating</th>\n",
       "      <th>user_tags_length</th>\n",
       "      <th>movie_tag_length</th>\n",
       "    </tr>\n",
       "  </thead>\n",
       "  <tbody>\n",
       "    <tr>\n",
       "      <th>0</th>\n",
       "      <td>classic scifi</td>\n",
       "      <td>nonlinear violence storytelling violent gangst...</td>\n",
       "      <td>5.0</td>\n",
       "      <td>13</td>\n",
       "      <td>183</td>\n",
       "    </tr>\n",
       "    <tr>\n",
       "      <th>1</th>\n",
       "      <td>classic scifi</td>\n",
       "      <td>poignant stunning visual greed kurosawa cinema...</td>\n",
       "      <td>5.0</td>\n",
       "      <td>13</td>\n",
       "      <td>148</td>\n",
       "    </tr>\n",
       "    <tr>\n",
       "      <th>2</th>\n",
       "      <td>classic scifi</td>\n",
       "      <td>genetics futuristic technology dystopic future...</td>\n",
       "      <td>5.0</td>\n",
       "      <td>13</td>\n",
       "      <td>183</td>\n",
       "    </tr>\n",
       "    <tr>\n",
       "      <th>3</th>\n",
       "      <td>classic scifi</td>\n",
       "      <td>passionate visually appealing stunning dancing...</td>\n",
       "      <td>3.0</td>\n",
       "      <td>13</td>\n",
       "      <td>163</td>\n",
       "    </tr>\n",
       "    <tr>\n",
       "      <th>4</th>\n",
       "      <td>classic scifi</td>\n",
       "      <td>wizards scenic mythology oscar best effects vi...</td>\n",
       "      <td>4.0</td>\n",
       "      <td>13</td>\n",
       "      <td>207</td>\n",
       "    </tr>\n",
       "    <tr>\n",
       "      <th>...</th>\n",
       "      <td>...</td>\n",
       "      <td>...</td>\n",
       "      <td>...</td>\n",
       "      <td>...</td>\n",
       "      <td>...</td>\n",
       "    </tr>\n",
       "    <tr>\n",
       "      <th>3686636</th>\n",
       "      <td>creepy gothic</td>\n",
       "      <td>antisemitism silent horror talky criterion ori...</td>\n",
       "      <td>4.0</td>\n",
       "      <td>13</td>\n",
       "      <td>131</td>\n",
       "    </tr>\n",
       "    <tr>\n",
       "      <th>3686637</th>\n",
       "      <td>creepy gothic</td>\n",
       "      <td>demons dark fantasy amazing photography devil ...</td>\n",
       "      <td>4.0</td>\n",
       "      <td>13</td>\n",
       "      <td>153</td>\n",
       "    </tr>\n",
       "    <tr>\n",
       "      <th>3686638</th>\n",
       "      <td>creepy gothic</td>\n",
       "      <td>supernatural haunted house ominous eerie creep...</td>\n",
       "      <td>3.5</td>\n",
       "      <td>13</td>\n",
       "      <td>154</td>\n",
       "    </tr>\n",
       "    <tr>\n",
       "      <th>3686639</th>\n",
       "      <td>creepy gothic</td>\n",
       "      <td>supernatural adultery death revenge eerie cult...</td>\n",
       "      <td>4.0</td>\n",
       "      <td>13</td>\n",
       "      <td>134</td>\n",
       "    </tr>\n",
       "    <tr>\n",
       "      <th>3686640</th>\n",
       "      <td>creepy gothic</td>\n",
       "      <td>erotic affectionate eerie nudity horror creepy...</td>\n",
       "      <td>4.0</td>\n",
       "      <td>13</td>\n",
       "      <td>139</td>\n",
       "    </tr>\n",
       "  </tbody>\n",
       "</table>\n",
       "<p>3686641 rows × 5 columns</p>\n",
       "</div>"
      ],
      "text/plain": [
       "             user_tags                                                tag  \\\n",
       "0        classic scifi  nonlinear violence storytelling violent gangst...   \n",
       "1        classic scifi  poignant stunning visual greed kurosawa cinema...   \n",
       "2        classic scifi  genetics futuristic technology dystopic future...   \n",
       "3        classic scifi  passionate visually appealing stunning dancing...   \n",
       "4        classic scifi  wizards scenic mythology oscar best effects vi...   \n",
       "...                ...                                                ...   \n",
       "3686636  creepy gothic  antisemitism silent horror talky criterion ori...   \n",
       "3686637  creepy gothic  demons dark fantasy amazing photography devil ...   \n",
       "3686638  creepy gothic  supernatural haunted house ominous eerie creep...   \n",
       "3686639  creepy gothic  supernatural adultery death revenge eerie cult...   \n",
       "3686640  creepy gothic  erotic affectionate eerie nudity horror creepy...   \n",
       "\n",
       "         rating  user_tags_length  movie_tag_length  \n",
       "0           5.0                13               183  \n",
       "1           5.0                13               148  \n",
       "2           5.0                13               183  \n",
       "3           3.0                13               163  \n",
       "4           4.0                13               207  \n",
       "...         ...               ...               ...  \n",
       "3686636     4.0                13               131  \n",
       "3686637     4.0                13               153  \n",
       "3686638     3.5                13               154  \n",
       "3686639     4.0                13               134  \n",
       "3686640     4.0                13               139  \n",
       "\n",
       "[3686641 rows x 5 columns]"
      ]
     },
     "execution_count": 26,
     "metadata": {},
     "output_type": "execute_result"
    }
   ],
   "source": [
    "dataset"
   ]
  },
  {
   "cell_type": "code",
   "execution_count": null,
   "metadata": {},
   "outputs": [
    {
     "data": {
      "text/plain": [
       "42545"
      ]
     },
     "execution_count": 27,
     "metadata": {},
     "output_type": "execute_result"
    }
   ],
   "source": [
    "dataset.user_tags_length.max()"
   ]
  },
  {
   "cell_type": "code",
   "execution_count": null,
   "metadata": {},
   "outputs": [
    {
     "data": {
      "text/html": [
       "<div>\n",
       "<style scoped>\n",
       "    .dataframe tbody tr th:only-of-type {\n",
       "        vertical-align: middle;\n",
       "    }\n",
       "\n",
       "    .dataframe tbody tr th {\n",
       "        vertical-align: top;\n",
       "    }\n",
       "\n",
       "    .dataframe thead th {\n",
       "        text-align: right;\n",
       "    }\n",
       "</style>\n",
       "<table border=\"1\" class=\"dataframe\">\n",
       "  <thead>\n",
       "    <tr style=\"text-align: right;\">\n",
       "      <th></th>\n",
       "      <th>rating</th>\n",
       "      <th>user_tags_length</th>\n",
       "      <th>movie_tag_length</th>\n",
       "    </tr>\n",
       "  </thead>\n",
       "  <tbody>\n",
       "    <tr>\n",
       "      <th>count</th>\n",
       "      <td>3.686641e+06</td>\n",
       "      <td>3.686641e+06</td>\n",
       "      <td>3.686641e+06</td>\n",
       "    </tr>\n",
       "    <tr>\n",
       "      <th>mean</th>\n",
       "      <td>3.496950e+00</td>\n",
       "      <td>6.270065e+02</td>\n",
       "      <td>1.701543e+02</td>\n",
       "    </tr>\n",
       "    <tr>\n",
       "      <th>std</th>\n",
       "      <td>1.014067e+00</td>\n",
       "      <td>2.153688e+03</td>\n",
       "      <td>2.191981e+01</td>\n",
       "    </tr>\n",
       "    <tr>\n",
       "      <th>min</th>\n",
       "      <td>5.000000e-01</td>\n",
       "      <td>0.000000e+00</td>\n",
       "      <td>1.050000e+02</td>\n",
       "    </tr>\n",
       "    <tr>\n",
       "      <th>25%</th>\n",
       "      <td>3.000000e+00</td>\n",
       "      <td>2.600000e+01</td>\n",
       "      <td>1.550000e+02</td>\n",
       "    </tr>\n",
       "    <tr>\n",
       "      <th>50%</th>\n",
       "      <td>3.500000e+00</td>\n",
       "      <td>8.500000e+01</td>\n",
       "      <td>1.680000e+02</td>\n",
       "    </tr>\n",
       "    <tr>\n",
       "      <th>75%</th>\n",
       "      <td>4.000000e+00</td>\n",
       "      <td>3.790000e+02</td>\n",
       "      <td>1.840000e+02</td>\n",
       "    </tr>\n",
       "    <tr>\n",
       "      <th>max</th>\n",
       "      <td>5.000000e+00</td>\n",
       "      <td>4.254500e+04</td>\n",
       "      <td>2.600000e+02</td>\n",
       "    </tr>\n",
       "  </tbody>\n",
       "</table>\n",
       "</div>"
      ],
      "text/plain": [
       "             rating  user_tags_length  movie_tag_length\n",
       "count  3.686641e+06      3.686641e+06      3.686641e+06\n",
       "mean   3.496950e+00      6.270065e+02      1.701543e+02\n",
       "std    1.014067e+00      2.153688e+03      2.191981e+01\n",
       "min    5.000000e-01      0.000000e+00      1.050000e+02\n",
       "25%    3.000000e+00      2.600000e+01      1.550000e+02\n",
       "50%    3.500000e+00      8.500000e+01      1.680000e+02\n",
       "75%    4.000000e+00      3.790000e+02      1.840000e+02\n",
       "max    5.000000e+00      4.254500e+04      2.600000e+02"
      ]
     },
     "execution_count": 28,
     "metadata": {},
     "output_type": "execute_result"
    }
   ],
   "source": [
    "user_item_data.describe()"
   ]
  },
  {
   "cell_type": "code",
   "execution_count": null,
   "metadata": {},
   "outputs": [
    {
     "data": {
      "text/plain": [
       "260"
      ]
     },
     "execution_count": 29,
     "metadata": {},
     "output_type": "execute_result"
    }
   ],
   "source": [
    "user_item_data[\"movie_tag_length\"].max()"
   ]
  },
  {
   "cell_type": "code",
   "execution_count": null,
   "metadata": {},
   "outputs": [
    {
     "data": {
      "text/plain": [
       "<seaborn.axisgrid.FacetGrid at 0x26736fd0fa0>"
      ]
     },
     "execution_count": 30,
     "metadata": {},
     "output_type": "execute_result"
    },
    {
     "data": {
      "image/png": "[encoded data removed]",
      "text/plain": [
       "<Figure size 360x360 with 1 Axes>"
      ]
     },
     "metadata": {
      "needs_background": "light"
     },
     "output_type": "display_data"
    }
   ],
   "source": [
    "sns.displot(user_item_data[\"user_tags_length\"])"
   ]
  },
  {
   "cell_type": "code",
   "execution_count": null,
   "metadata": {},
   "outputs": [
    {
     "data": {
      "text/plain": [
       "4.0    904366\n",
       "3.5    681464\n",
       "3.0    602653\n",
       "4.5    431394\n",
       "5.0    365077\n",
       "2.5    265619\n",
       "2.0    207150\n",
       "1.0     81941\n",
       "1.5     81016\n",
       "0.5     65961\n",
       "Name: rating, dtype: int64"
      ]
     },
     "execution_count": 31,
     "metadata": {},
     "output_type": "execute_result"
    }
   ],
   "source": [
    "user_item_data[\"rating\"].value_counts()"
   ]
  },
  {
   "cell_type": "code",
   "execution_count": null,
   "metadata": {},
   "outputs": [],
   "source": [
    "user_item_data[\"rating\"]=user_item_data[\"rating\"].apply(lambda x: int(x+1))"
   ]
  },
  {
   "cell_type": "code",
   "execution_count": null,
   "metadata": {},
   "outputs": [],
   "source": [
    "train,test=train_test_split(user_item_data,test_size=0.35)\n",
    "test,validation=train_test_split(dataset,test_size=0.5)"
   ]
  },
  {
   "cell_type": "code",
   "execution_count": null,
   "metadata": {},
   "outputs": [],
   "source": [
    "train.to_csv(\"../input/train_user_item.csv\",index=False)\n",
    "test.to_csv(\"../input/test_user_item.csv\",index=False)\n",
    "validation.to_csv(\"../input/validation_user_item.csv\",index=False)"
   ]
  },
  {
   "cell_type": "code",
   "execution_count": null,
   "metadata": {},
   "outputs": [],
   "source": []
  }
 ],
 "metadata": {
  "kernelspec": {
   "display_name": "Python 3.9.12 ('tf_gpu')",
   "language": "python",
   "name": "python3"
  },
  "language_info": {
   "codemirror_mode": {
    "name": "ipython",
    "version": 3
   },
   "file_extension": ".py",
   "mimetype": "text/x-python",
   "name": "python",
   "nbconvert_exporter": "python",
   "pygments_lexer": "ipython3",
   "version": "3.9.12"
  },
  "orig_nbformat": 4,
  "vscode": {
   "interpreter": {
    "hash": "197295b20122369b6502e224a1410f8bc9b22cbbcad42d16b957c3154cf64235"
   }
  }
 },
 "nbformat": 4,
 "nbformat_minor": 2
}
